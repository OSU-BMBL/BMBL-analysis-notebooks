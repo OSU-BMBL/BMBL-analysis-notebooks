{
 "cells": [
  {
   "cell_type": "code",
   "execution_count": 1,
   "id": "0f85d35e",
   "metadata": {},
   "outputs": [],
   "source": [
    "import tacco as tc\n",
    "import scanpy as sp\n",
    "import pandas as pd\n",
    "import numpy as np\n",
    "import anndata as ad"
   ]
  },
  {
   "cell_type": "code",
   "execution_count": 2,
   "id": "ab42b4a9",
   "metadata": {},
   "outputs": [
    {
     "data": {
      "text/plain": [
       "AnnData object with n_obs × n_vars = 21699 × 17415\n",
       "    obs: 'orig.ident', 'nCount_RNA', 'nFeature_RNA', 'percent.mt', 'Sample', 'Treatment', 'Injury', 'Status', 'Area', 'Type', 'Age', 'Age_Status', 'Sex', 'Treatment_Age_Status', 'Treatment_Age_Status_Sex', 'Treatment_Age_Status_Sex_Area', 'Names_Sample', 'Names_Age_Status', 'Names_Sample_Age_Status', 'nCount_SCT', 'nFeature_SCT', 'integrated_snn_res.0.2', 'seurat_clusters', 'predicted.id', 'prediction.score.Monocytes', 'prediction.score.AT2', 'prediction.score.Dendritics.cells', 'prediction.score.SCGB3A2.SCGB1A1..RAS', 'prediction.score.Alveolar.fibroblasts', 'prediction.score.CD4..cells', 'prediction.score.EC.Lymphatic', 'prediction.score.Alveolar.macrophage', 'prediction.score.Adventitial.fibroblasts', 'prediction.score.AT1', 'prediction.score.EC.Systemic', 'prediction.score.Mast.cells', 'prediction.score.NK', 'prediction.score.AT2.transitional', 'prediction.score.B.cells', 'prediction.score.Pericytes', 'prediction.score.Inflammatory.fibroblasts', 'prediction.score.EC.Arterial', 'prediction.score.Plasma.cells', 'prediction.score.CD8..cells', 'prediction.score.Ciliated', 'prediction.score.SMC', 'prediction.score.SPP1..macrophage', 'prediction.score.Monocyte.derived.macrophage', 'prediction.score.Basal', 'prediction.score.MUC5B..club', 'prediction.score.KRT5..KRT17..cells', 'prediction.score.CTHRC1..fibroblasts', 'prediction.score.Peribronchial.fibroblasts', 'prediction.score.EC.Capilary', 'prediction.score.max', 'Clusters'"
      ]
     },
     "execution_count": 2,
     "metadata": {},
     "output_type": "execute_result"
    }
   ],
   "source": [
    "# Read the counts matrix\n",
    "counts_matrix = pd.read_csv('MAPLE_Single_cell_counts_matrix.csv', index_col=0).T\n",
    "\n",
    "# Read the metadata\n",
    "metadata = pd.read_csv('MAPLE_Single_cell_metadata.csv', index_col=0)\n",
    "\n",
    "# Create AnnData object\n",
    "adata = ad.AnnData(X=counts_matrix)\n",
    "\n",
    "# Add metadata to AnnData\n",
    "adata.obs = metadata\n",
    "\n",
    "# Verify the contents\n",
    "adata"
   ]
  },
  {
   "cell_type": "code",
   "execution_count": 3,
   "id": "7d86cd62-151f-4e3f-92bf-181487d699ac",
   "metadata": {},
   "outputs": [
    {
     "data": {
      "text/plain": [
       "PITTS2020_110_LL    11369\n",
       "PITTS2020_110_UL     4353\n",
       "WL_20166             3520\n",
       "OSU10161_UL          1086\n",
       "OSU10161_LL           753\n",
       "WL_20132              618\n",
       "Name: Sample, dtype: int64"
      ]
     },
     "execution_count": 3,
     "metadata": {},
     "output_type": "execute_result"
    }
   ],
   "source": [
    "adata.obs['Sample'].value_counts()"
   ]
  },
  {
   "cell_type": "code",
   "execution_count": 4,
   "id": "ce3a954c-4e87-4e5d-b10f-578fda670c9e",
   "metadata": {},
   "outputs": [
    {
     "data": {
      "text/plain": [
       "array([[0, 0, 0, ..., 0, 0, 0],\n",
       "       [0, 0, 0, ..., 0, 0, 0],\n",
       "       [0, 0, 0, ..., 0, 0, 0],\n",
       "       ...,\n",
       "       [0, 0, 0, ..., 0, 0, 0],\n",
       "       [0, 0, 0, ..., 0, 0, 0],\n",
       "       [0, 0, 0, ..., 0, 0, 0]])"
      ]
     },
     "execution_count": 4,
     "metadata": {},
     "output_type": "execute_result"
    }
   ],
   "source": [
    "adata.X"
   ]
  },
  {
   "cell_type": "code",
   "execution_count": 5,
   "id": "fa9d4c80-ae61-4283-a2f9-3fe2b85644b2",
   "metadata": {},
   "outputs": [],
   "source": [
    "labels=pd.read_csv('labels.csv',index_col=0)\n",
    "adata.obs['Clusters']=labels"
   ]
  },
  {
   "cell_type": "code",
   "execution_count": 6,
   "id": "a8c45ab2-82b0-483c-8e46-09b55afb307b",
   "metadata": {},
   "outputs": [
    {
     "data": {
      "text/plain": [
       "AnnData object with n_obs × n_vars = 20373 × 18929\n",
       "    obs: 'orig.ident', 'nCount_Spatial', 'nFeature_Spatial', 'Status', 'Area', 'Parenchymal_area', 'Sample', 'nCount_SCT', 'nFeature_SCT'"
      ]
     },
     "execution_count": 6,
     "metadata": {},
     "output_type": "execute_result"
    }
   ],
   "source": [
    "# Read the counts matrix\n",
    "counts_matrix = pd.read_csv('MAPLE_Spatial_counts_matrix.csv', index_col=0).T\n",
    "\n",
    "# Read the metadata\n",
    "metadata = pd.read_csv('MAPLE_Spatial_cell_metadata.csv', index_col=0)\n",
    "\n",
    "# Create AnnData object\n",
    "adata1 = ad.AnnData(X=counts_matrix)\n",
    "\n",
    "# Add metadata to AnnData\n",
    "adata1.obs = metadata\n",
    "\n",
    "# Verify the contents\n",
    "adata1"
   ]
  },
  {
   "cell_type": "code",
   "execution_count": 7,
   "id": "259ee7d5-eaf0-4e00-a96e-af9c03f0b0b8",
   "metadata": {},
   "outputs": [
    {
     "data": {
      "text/plain": [
       "AnnData object with n_obs × n_vars = 20373 × 18929\n",
       "    obs: 'orig.ident', 'nCount_Spatial', 'nFeature_Spatial', 'Status', 'Area', 'Parenchymal_area', 'Sample', 'nCount_SCT', 'nFeature_SCT'"
      ]
     },
     "execution_count": 7,
     "metadata": {},
     "output_type": "execute_result"
    }
   ],
   "source": [
    "adata1"
   ]
  },
  {
   "cell_type": "code",
   "execution_count": 8,
   "id": "fcf3bb0a-5fb8-4f14-835a-0d4f72c386bb",
   "metadata": {},
   "outputs": [],
   "source": [
    "adata1.X=adata1.X.astype('float64')"
   ]
  },
  {
   "cell_type": "code",
   "execution_count": 9,
   "id": "44e04228-0fa4-464f-9aae-aa2032a02f42",
   "metadata": {},
   "outputs": [
    {
     "data": {
      "text/plain": [
       "array([[ 2.,  1.,  0., ...,  0.,  0.,  0.],\n",
       "       [ 1.,  0.,  0., ...,  0.,  0.,  0.],\n",
       "       [ 0.,  1.,  0., ...,  0.,  0.,  0.],\n",
       "       ...,\n",
       "       [ 0.,  0.,  0., ...,  1.,  6., 13.],\n",
       "       [ 0.,  0.,  0., ...,  0.,  0.,  3.],\n",
       "       [ 0.,  0.,  0., ...,  0.,  2., 15.]])"
      ]
     },
     "execution_count": 9,
     "metadata": {},
     "output_type": "execute_result"
    }
   ],
   "source": [
    "adata1.X"
   ]
  },
  {
   "cell_type": "code",
   "execution_count": 10,
   "id": "8ac89cdc-2508-4cae-94d6-3c95e74becbc",
   "metadata": {},
   "outputs": [],
   "source": [
    "# using OSU10161_UL spatial + all scRNA-seq"
   ]
  },
  {
   "cell_type": "code",
   "execution_count": 11,
   "id": "6ebc3a97-0a73-414e-8a0c-a924d0d4fa10",
   "metadata": {},
   "outputs": [
    {
     "data": {
      "text/plain": [
       "OSU10161_LL         4334\n",
       "OSU10161_UL         4205\n",
       "OSU20132_PA         3174\n",
       "PITTS2020_110_UL    3092\n",
       "OSU20166_PA         2928\n",
       "PITTS2020_110_LL    2640\n",
       "Name: Sample, dtype: int64"
      ]
     },
     "execution_count": 11,
     "metadata": {},
     "output_type": "execute_result"
    }
   ],
   "source": [
    "adata1.obs['Sample'].value_counts()"
   ]
  },
  {
   "cell_type": "code",
   "execution_count": 12,
   "id": "3329c0df-c4b3-4341-9c11-62b44ebfee47",
   "metadata": {},
   "outputs": [],
   "source": [
    "adata_spatial=adata1[adata1.obs['Sample']=='OSU10161_UL'].copy()"
   ]
  },
  {
   "cell_type": "code",
   "execution_count": 13,
   "id": "b9bfab28-bda8-4f8c-8185-0932e4333e54",
   "metadata": {},
   "outputs": [
    {
     "name": "stdout",
     "output_type": "stream",
     "text": [
      "Starting preprocessing\n",
      "Annotation profiles were not found in `reference.varm[\"Clusters\"]`. Constructing reference profiles with `tacco.preprocessing.construct_reference_profiles` and default arguments...\n",
      "Finished preprocessing in 11.14 seconds.\n",
      "Starting annotation of data with shape (4205, 16020) and a reference of shape (21699, 16020) using the following wrapped method:\n",
      "+- platform normalization: platform_iterations=0, gene_keys=Clusters, normalize_to=adata\n",
      "   +- multi center: multi_center=None multi_center_amplitudes=True\n",
      "      +- bisection boost: bisections=4, bisection_divisor=3\n",
      "         +- core: method=OT annotation_prior=None\n",
      "mean,std( rescaling(gene) )  0.804425057336998 5.553481978627938\n",
      "bisection run on 1\n",
      "bisection run on 0.6666666666666667\n",
      "bisection run on 0.4444444444444444\n",
      "bisection run on 0.2962962962962963\n",
      "bisection run on 0.19753086419753085\n",
      "bisection run on 0.09876543209876543\n",
      "Finished annotation in 13.8 seconds.\n"
     ]
    },
    {
     "data": {
      "text/plain": [
       "AnnData object with n_obs × n_vars = 4205 × 18929\n",
       "    obs: 'orig.ident', 'nCount_Spatial', 'nFeature_Spatial', 'Status', 'Area', 'Parenchymal_area', 'Sample', 'nCount_SCT', 'nFeature_SCT'\n",
       "    obsm: 'deconv_annotation'\n",
       "    varm: 'deconv_annotation'"
      ]
     },
     "execution_count": 13,
     "metadata": {},
     "output_type": "execute_result"
    }
   ],
   "source": [
    "tc.tl.annotate(adata_spatial, adata, annotation_key='Clusters', result_key='deconv_annotation')"
   ]
  },
  {
   "cell_type": "code",
   "execution_count": 14,
   "id": "93e68151-4265-4f85-ad2f-0e89c443579f",
   "metadata": {},
   "outputs": [],
   "source": [
    "adata_spatial.obsm['deconv_annotation'].to_csv('./maple_results/Atlas_OSU10161_UL_all.csv')"
   ]
  },
  {
   "cell_type": "code",
   "execution_count": 15,
   "id": "7dd442d3-1bd9-4c36-8ed6-71d7bd563931",
   "metadata": {},
   "outputs": [],
   "source": [
    "# using OSU10161_UL spatial + scRNA-seq OSU10161_UL, PITTS2020_110_UL"
   ]
  },
  {
   "cell_type": "code",
   "execution_count": 13,
   "id": "1743a5b5-8f25-4c8c-b740-fe06d676557a",
   "metadata": {},
   "outputs": [],
   "source": [
    "adata_spatial=adata1[adata1.obs['Sample']=='OSU10161_UL'].copy()"
   ]
  },
  {
   "cell_type": "code",
   "execution_count": 14,
   "id": "d578fa9a-3b10-4a12-aea6-2da3f6ef2310",
   "metadata": {},
   "outputs": [],
   "source": [
    "adata_sc=adata[(adata.obs['Sample']=='OSU10161_UL')|(adata.obs['Sample']=='PITTS2020_110_UL')].copy()"
   ]
  },
  {
   "cell_type": "code",
   "execution_count": 15,
   "id": "41ba9a7f-b244-4c5b-a669-90d4927c166b",
   "metadata": {},
   "outputs": [
    {
     "name": "stdout",
     "output_type": "stream",
     "text": [
      "Starting preprocessing\n",
      "Annotation profiles were not found in `reference.varm[\"Clusters\"]`. Constructing reference profiles with `tacco.preprocessing.construct_reference_profiles` and default arguments...\n",
      "Finished preprocessing in 3.69 seconds.\n",
      "Starting annotation of data with shape (4205, 15410) and a reference of shape (5439, 15410) using the following wrapped method:\n",
      "+- platform normalization: platform_iterations=0, gene_keys=Clusters, normalize_to=adata\n",
      "   +- multi center: multi_center=None multi_center_amplitudes=True\n",
      "      +- bisection boost: bisections=4, bisection_divisor=3\n",
      "         +- core: method=OT annotation_prior=None\n",
      "mean,std( rescaling(gene) )  4.009996576059464 41.22731101321452\n",
      "bisection run on 1\n",
      "bisection run on 0.6666666666666667\n",
      "bisection run on 0.4444444444444444\n",
      "bisection run on 0.2962962962962963\n",
      "bisection run on 0.19753086419753085\n",
      "bisection run on 0.09876543209876543\n",
      "Finished annotation in 10.89 seconds.\n"
     ]
    },
    {
     "data": {
      "text/plain": [
       "AnnData object with n_obs × n_vars = 4205 × 18929\n",
       "    obs: 'orig.ident', 'nCount_Spatial', 'nFeature_Spatial', 'Status', 'Area', 'Parenchymal_area', 'Sample', 'nCount_SCT', 'nFeature_SCT'\n",
       "    obsm: 'deconv_annotation'\n",
       "    varm: 'deconv_annotation'"
      ]
     },
     "execution_count": 15,
     "metadata": {},
     "output_type": "execute_result"
    }
   ],
   "source": [
    "tc.tl.annotate(adata_spatial, adata_sc, annotation_key='Clusters', result_key='deconv_annotation')"
   ]
  },
  {
   "cell_type": "code",
   "execution_count": 16,
   "id": "f2198b74-744e-4d0a-b5fb-5aa079ef7c9a",
   "metadata": {},
   "outputs": [],
   "source": [
    "adata_spatial.obsm['deconv_annotation'].to_csv('./maple_results/Atlas_OSU10161_UL_UL.csv')"
   ]
  },
  {
   "cell_type": "code",
   "execution_count": 17,
   "id": "32770ef8-6d32-4063-8fc2-b87f2afea5aa",
   "metadata": {},
   "outputs": [],
   "source": [
    "# using PITTS2020_110_UL spatial + scRNA-seq all"
   ]
  },
  {
   "cell_type": "code",
   "execution_count": 18,
   "id": "a9df4c09-1464-4771-afa9-58bed0b23945",
   "metadata": {},
   "outputs": [],
   "source": [
    "adata_spatial=adata1[adata1.obs['Sample']=='PITTS2020_110_UL'].copy()"
   ]
  },
  {
   "cell_type": "code",
   "execution_count": 19,
   "id": "382f0c5f-c75d-44ce-9493-3321d6d56053",
   "metadata": {},
   "outputs": [],
   "source": [
    "adata_sc=adata.copy()"
   ]
  },
  {
   "cell_type": "code",
   "execution_count": 20,
   "id": "3ce6643f-0717-4019-9210-609a0247dc8b",
   "metadata": {},
   "outputs": [
    {
     "name": "stdout",
     "output_type": "stream",
     "text": [
      "Starting preprocessing\n",
      "Annotation profiles were not found in `reference.varm[\"Clusters\"]`. Constructing reference profiles with `tacco.preprocessing.construct_reference_profiles` and default arguments...\n",
      "Finished preprocessing in 11.4 seconds.\n",
      "Starting annotation of data with shape (3092, 16383) and a reference of shape (21699, 16383) using the following wrapped method:\n",
      "+- platform normalization: platform_iterations=0, gene_keys=Clusters, normalize_to=adata\n",
      "   +- multi center: multi_center=None multi_center_amplitudes=True\n",
      "      +- bisection boost: bisections=4, bisection_divisor=3\n",
      "         +- core: method=OT annotation_prior=None\n",
      "mean,std( rescaling(gene) )  1.593288482505194 9.860752444300232\n",
      "bisection run on 1\n",
      "bisection run on 0.6666666666666667\n",
      "bisection run on 0.4444444444444444\n",
      "bisection run on 0.2962962962962963\n",
      "bisection run on 0.19753086419753085\n",
      "bisection run on 0.09876543209876543\n",
      "Finished annotation in 11.89 seconds.\n"
     ]
    },
    {
     "data": {
      "text/plain": [
       "AnnData object with n_obs × n_vars = 3092 × 18929\n",
       "    obs: 'orig.ident', 'nCount_Spatial', 'nFeature_Spatial', 'Status', 'Area', 'Parenchymal_area', 'Sample', 'nCount_SCT', 'nFeature_SCT'\n",
       "    obsm: 'deconv_annotation'\n",
       "    varm: 'deconv_annotation'"
      ]
     },
     "execution_count": 20,
     "metadata": {},
     "output_type": "execute_result"
    }
   ],
   "source": [
    "tc.tl.annotate(adata_spatial, adata_sc, annotation_key='Clusters', result_key='deconv_annotation')"
   ]
  },
  {
   "cell_type": "code",
   "execution_count": 21,
   "id": "1a9da6ba-8a43-4196-badc-6c73db1eecb0",
   "metadata": {},
   "outputs": [],
   "source": [
    "adata_spatial.obsm['deconv_annotation'].to_csv('./maple_results/Atlas_PITTS2020_110_UL_all.csv')"
   ]
  },
  {
   "cell_type": "code",
   "execution_count": 22,
   "id": "982f71c0-9935-411a-af16-0cf31fb06203",
   "metadata": {},
   "outputs": [],
   "source": [
    "# using PITTS2020_110_UL spatial + OSU10161_UL, PITTS2020_110_UL"
   ]
  },
  {
   "cell_type": "code",
   "execution_count": 23,
   "id": "95d0e31a-1da5-4e60-b0c8-a6e6144cb7e3",
   "metadata": {},
   "outputs": [
    {
     "name": "stdout",
     "output_type": "stream",
     "text": [
      "Starting preprocessing\n",
      "Annotation profiles were not found in `reference.varm[\"Clusters\"]`. Constructing reference profiles with `tacco.preprocessing.construct_reference_profiles` and default arguments...\n",
      "Finished preprocessing in 4.0 seconds.\n",
      "Starting annotation of data with shape (3092, 15624) and a reference of shape (5439, 15624) using the following wrapped method:\n",
      "+- platform normalization: platform_iterations=0, gene_keys=Clusters, normalize_to=adata\n",
      "   +- multi center: multi_center=None multi_center_amplitudes=True\n",
      "      +- bisection boost: bisections=4, bisection_divisor=3\n",
      "         +- core: method=OT annotation_prior=None\n",
      "mean,std( rescaling(gene) )  6.932909435344317 65.88955208831362\n",
      "bisection run on 1\n",
      "bisection run on 0.6666666666666667\n",
      "bisection run on 0.4444444444444444\n",
      "bisection run on 0.2962962962962963\n",
      "bisection run on 0.19753086419753085\n",
      "bisection run on 0.09876543209876543\n",
      "Finished annotation in 9.0 seconds.\n"
     ]
    }
   ],
   "source": [
    "adata_spatial=adata1[adata1.obs['Sample']=='PITTS2020_110_UL'].copy()\n",
    "adata_sc=adata[(adata.obs['Sample']=='OSU10161_UL')|(adata.obs['Sample']=='PITTS2020_110_UL')].copy()\n",
    "tc.tl.annotate(adata_spatial, adata_sc, annotation_key='Clusters', result_key='deconv_annotation')\n",
    "adata_spatial.obsm['deconv_annotation'].to_csv('./maple_results/Atlas_PITTS2020_110_UL_UL.csv')"
   ]
  },
  {
   "cell_type": "code",
   "execution_count": 24,
   "id": "681acc1e-f386-4228-ad49-8820efa3c607",
   "metadata": {},
   "outputs": [],
   "source": [
    "# using OSU10161_LL spatial + all scRNA-seq"
   ]
  },
  {
   "cell_type": "code",
   "execution_count": 25,
   "id": "45f0dd85-092b-48c0-aa73-f2be254fcb9a",
   "metadata": {},
   "outputs": [
    {
     "name": "stdout",
     "output_type": "stream",
     "text": [
      "Starting preprocessing\n",
      "Annotation profiles were not found in `reference.varm[\"Clusters\"]`. Constructing reference profiles with `tacco.preprocessing.construct_reference_profiles` and default arguments...\n",
      "Finished preprocessing in 11.25 seconds.\n",
      "Starting annotation of data with shape (4334, 15575) and a reference of shape (21699, 15575) using the following wrapped method:\n",
      "+- platform normalization: platform_iterations=0, gene_keys=Clusters, normalize_to=adata\n",
      "   +- multi center: multi_center=None multi_center_amplitudes=True\n",
      "      +- bisection boost: bisections=4, bisection_divisor=3\n",
      "         +- core: method=OT annotation_prior=None\n",
      "mean,std( rescaling(gene) )  0.5303369841360026 4.759895226977724\n",
      "bisection run on 1\n",
      "bisection run on 0.6666666666666667\n",
      "bisection run on 0.4444444444444444\n",
      "bisection run on 0.2962962962962963\n",
      "bisection run on 0.19753086419753085\n",
      "bisection run on 0.09876543209876543\n",
      "Finished annotation in 14.26 seconds.\n"
     ]
    }
   ],
   "source": [
    "adata_spatial=adata1[adata1.obs['Sample']=='OSU10161_LL'].copy()\n",
    "adata_sc=adata.copy()\n",
    "tc.tl.annotate(adata_spatial, adata_sc, annotation_key='Clusters', result_key='deconv_annotation')\n",
    "adata_spatial.obsm['deconv_annotation'].to_csv('./maple_results/Atlas_OSU10161_LL_all.csv')"
   ]
  },
  {
   "cell_type": "code",
   "execution_count": 26,
   "id": "e0b3c85e-7e5c-42e4-890f-bc4cbb3d00ac",
   "metadata": {},
   "outputs": [],
   "source": [
    "# using OSU10161_LL spatial +  scRNA-seq OSU10161_LL PITTS2020_110_LL"
   ]
  },
  {
   "cell_type": "code",
   "execution_count": 27,
   "id": "f955c9d0-b8a3-4b7a-8ee5-38cfa5e41203",
   "metadata": {},
   "outputs": [
    {
     "name": "stdout",
     "output_type": "stream",
     "text": [
      "Starting preprocessing\n",
      "Annotation profiles were not found in `reference.varm[\"Clusters\"]`. Constructing reference profiles with `tacco.preprocessing.construct_reference_profiles` and default arguments...\n",
      "Finished preprocessing in 6.69 seconds.\n",
      "Starting annotation of data with shape (4334, 15383) and a reference of shape (12122, 15383) using the following wrapped method:\n",
      "+- platform normalization: platform_iterations=0, gene_keys=Clusters, normalize_to=adata\n",
      "   +- multi center: multi_center=None multi_center_amplitudes=True\n",
      "      +- bisection boost: bisections=4, bisection_divisor=3\n",
      "         +- core: method=OT annotation_prior=None\n",
      "mean,std( rescaling(gene) )  1.509721246965673 28.72895807723415\n",
      "bisection run on 1\n",
      "bisection run on 0.6666666666666667\n",
      "bisection run on 0.4444444444444444\n",
      "bisection run on 0.2962962962962963\n",
      "bisection run on 0.19753086419753085\n",
      "bisection run on 0.09876543209876543\n",
      "Finished annotation in 11.41 seconds.\n"
     ]
    }
   ],
   "source": [
    "adata_spatial=adata1[adata1.obs['Sample']=='OSU10161_LL'].copy()\n",
    "adata_sc=adata[(adata.obs['Sample']=='OSU10161_LL')|(adata.obs['Sample']=='PITTS2020_110_LL')].copy()\n",
    "tc.tl.annotate(adata_spatial, adata_sc, annotation_key='Clusters', result_key='deconv_annotation')\n",
    "adata_spatial.obsm['deconv_annotation'].to_csv('./maple_results/Atlas_OSU10161_LL_LL.csv')"
   ]
  },
  {
   "cell_type": "code",
   "execution_count": 28,
   "id": "c0b9f2f9-6316-4ad6-b6b8-5726c98fe561",
   "metadata": {},
   "outputs": [],
   "source": [
    "# using PITTS2020_110_LL spatial +  scRNA-seq all"
   ]
  },
  {
   "cell_type": "code",
   "execution_count": 29,
   "id": "ff7cd2d5-b541-4f80-b939-e72cbd210d88",
   "metadata": {},
   "outputs": [
    {
     "name": "stdout",
     "output_type": "stream",
     "text": [
      "Starting preprocessing\n",
      "Annotation profiles were not found in `reference.varm[\"Clusters\"]`. Constructing reference profiles with `tacco.preprocessing.construct_reference_profiles` and default arguments...\n",
      "Finished preprocessing in 10.95 seconds.\n",
      "Starting annotation of data with shape (2640, 16350) and a reference of shape (21699, 16350) using the following wrapped method:\n",
      "+- platform normalization: platform_iterations=0, gene_keys=Clusters, normalize_to=adata\n",
      "   +- multi center: multi_center=None multi_center_amplitudes=True\n",
      "      +- bisection boost: bisections=4, bisection_divisor=3\n",
      "         +- core: method=OT annotation_prior=None\n",
      "mean,std( rescaling(gene) )  0.7430872730949775 5.434584503771209\n",
      "bisection run on 1\n",
      "bisection run on 0.6666666666666667\n",
      "bisection run on 0.4444444444444444\n",
      "bisection run on 0.2962962962962963\n",
      "bisection run on 0.19753086419753085\n",
      "bisection run on 0.09876543209876543\n",
      "Finished annotation in 10.0 seconds.\n"
     ]
    }
   ],
   "source": [
    "adata_spatial=adata1[adata1.obs['Sample']=='PITTS2020_110_LL'].copy()\n",
    "adata_sc=adata.copy()\n",
    "tc.tl.annotate(adata_spatial, adata_sc, annotation_key='Clusters', result_key='deconv_annotation')\n",
    "adata_spatial.obsm['deconv_annotation'].to_csv('./maple_results/Atlas_PITTS2020_110_LL_all.csv')"
   ]
  },
  {
   "cell_type": "code",
   "execution_count": 30,
   "id": "ae17a729-a137-451e-8e4e-d4df7aee03fe",
   "metadata": {},
   "outputs": [],
   "source": [
    "# using PITTS2020_110_LL spatial +  scRNA-seq OSU10161_LL PITTS2020_110_LL"
   ]
  },
  {
   "cell_type": "code",
   "execution_count": 31,
   "id": "28e055e3-4948-4a09-8c00-7b69092ca698",
   "metadata": {},
   "outputs": [
    {
     "name": "stdout",
     "output_type": "stream",
     "text": [
      "Starting preprocessing\n",
      "Annotation profiles were not found in `reference.varm[\"Clusters\"]`. Constructing reference profiles with `tacco.preprocessing.construct_reference_profiles` and default arguments...\n",
      "Finished preprocessing in 6.21 seconds.\n",
      "Starting annotation of data with shape (2640, 16019) and a reference of shape (12122, 16019) using the following wrapped method:\n",
      "+- platform normalization: platform_iterations=0, gene_keys=Clusters, normalize_to=adata\n",
      "   +- multi center: multi_center=None multi_center_amplitudes=True\n",
      "      +- bisection boost: bisections=4, bisection_divisor=3\n",
      "         +- core: method=OT annotation_prior=None\n",
      "mean,std( rescaling(gene) )  1.6233233061530103 30.52205463268122\n",
      "bisection run on 1\n",
      "bisection run on 0.6666666666666667\n",
      "bisection run on 0.4444444444444444\n",
      "bisection run on 0.2962962962962963\n",
      "bisection run on 0.19753086419753085\n",
      "bisection run on 0.09876543209876543\n",
      "Finished annotation in 8.14 seconds.\n"
     ]
    }
   ],
   "source": [
    "adata_spatial=adata1[adata1.obs['Sample']=='PITTS2020_110_LL'].copy()\n",
    "adata_sc=adata[(adata.obs['Sample']=='OSU10161_LL')|(adata.obs['Sample']=='PITTS2020_110_LL')].copy()\n",
    "tc.tl.annotate(adata_spatial, adata_sc, annotation_key='Clusters', result_key='deconv_annotation')\n",
    "adata_spatial.obsm['deconv_annotation'].to_csv('./maple_results/Atlas_PITTS2020_110_LL_LL.csv')"
   ]
  },
  {
   "cell_type": "code",
   "execution_count": 32,
   "id": "c5ecac9d-d664-4dd8-8207-77b6bd845bb3",
   "metadata": {},
   "outputs": [],
   "source": [
    "# using OSU20132_PA spatial +  scRNA-seq all"
   ]
  },
  {
   "cell_type": "code",
   "execution_count": 33,
   "id": "89ce84e9-110b-4778-acea-6320542b9992",
   "metadata": {},
   "outputs": [
    {
     "name": "stdout",
     "output_type": "stream",
     "text": [
      "Starting preprocessing\n",
      "Annotation profiles were not found in `reference.varm[\"Clusters\"]`. Constructing reference profiles with `tacco.preprocessing.construct_reference_profiles` and default arguments...\n",
      "Finished preprocessing in 10.64 seconds.\n",
      "Starting annotation of data with shape (3174, 15607) and a reference of shape (21699, 15607) using the following wrapped method:\n",
      "+- platform normalization: platform_iterations=0, gene_keys=Clusters, normalize_to=adata\n",
      "   +- multi center: multi_center=None multi_center_amplitudes=True\n",
      "      +- bisection boost: bisections=4, bisection_divisor=3\n",
      "         +- core: method=OT annotation_prior=None\n",
      "mean,std( rescaling(gene) )  0.7705888469070125 5.394154418055931\n",
      "bisection run on 1\n",
      "bisection run on 0.6666666666666667\n",
      "bisection run on 0.4444444444444444\n",
      "bisection run on 0.2962962962962963\n",
      "bisection run on 0.19753086419753085\n",
      "bisection run on 0.09876543209876543\n",
      "Finished annotation in 10.6 seconds.\n"
     ]
    }
   ],
   "source": [
    "adata_spatial=adata1[adata1.obs['Sample']=='OSU20132_PA'].copy()\n",
    "adata_sc=adata.copy()\n",
    "tc.tl.annotate(adata_spatial, adata_sc, annotation_key='Clusters', result_key='deconv_annotation')\n",
    "adata_spatial.obsm['deconv_annotation'].to_csv('./maple_results/Atlas_OSU20132_PA_all.csv')"
   ]
  },
  {
   "cell_type": "code",
   "execution_count": 34,
   "id": "c29bc283-6123-4658-bd4a-69bd75d8e626",
   "metadata": {},
   "outputs": [],
   "source": [
    "# using OSU20132_PA spatial +  scRNA-seq WL_20132,WL_20166"
   ]
  },
  {
   "cell_type": "code",
   "execution_count": 35,
   "id": "89fa0666-39cb-464f-a28b-e27532fa4af4",
   "metadata": {},
   "outputs": [
    {
     "name": "stdout",
     "output_type": "stream",
     "text": [
      "Starting preprocessing\n",
      "Annotation profiles were not found in `reference.varm[\"Clusters\"]`. Constructing reference profiles with `tacco.preprocessing.construct_reference_profiles` and default arguments...\n",
      "Finished preprocessing in 2.65 seconds.\n",
      "Starting annotation of data with shape (3174, 14575) and a reference of shape (4138, 14575) using the following wrapped method:\n",
      "+- platform normalization: platform_iterations=0, gene_keys=Clusters, normalize_to=adata\n",
      "   +- multi center: multi_center=None multi_center_amplitudes=True\n",
      "      +- bisection boost: bisections=4, bisection_divisor=3\n",
      "         +- core: method=OT annotation_prior=None\n",
      "mean,std( rescaling(gene) )  2.838390352407359 14.505972399475377\n",
      "bisection run on 1\n",
      "bisection run on 0.6666666666666667\n",
      "bisection run on 0.4444444444444444\n",
      "bisection run on 0.2962962962962963\n",
      "bisection run on 0.19753086419753085\n",
      "bisection run on 0.09876543209876543\n",
      "Finished annotation in 7.58 seconds.\n"
     ]
    }
   ],
   "source": [
    "adata_spatial=adata1[adata1.obs['Sample']=='OSU20132_PA'].copy()\n",
    "adata_sc=adata[(adata.obs['Sample']=='WL_20132')|(adata.obs['Sample']=='WL_20166')].copy()\n",
    "tc.tl.annotate(adata_spatial, adata_sc, annotation_key='Clusters', result_key='deconv_annotation')\n",
    "adata_spatial.obsm['deconv_annotation'].to_csv('./maple_results/Atlas_OSU20132_PA_PA.csv')"
   ]
  },
  {
   "cell_type": "code",
   "execution_count": 36,
   "id": "2773d3ec-afaa-4e5a-a536-20c9ac0adb2a",
   "metadata": {},
   "outputs": [],
   "source": [
    "# using OSU20166_PA spatial +  scRNA-seq all"
   ]
  },
  {
   "cell_type": "code",
   "execution_count": 37,
   "id": "2a78dabe-010b-48ed-9662-caa525621c46",
   "metadata": {},
   "outputs": [
    {
     "name": "stdout",
     "output_type": "stream",
     "text": [
      "Starting preprocessing\n",
      "Annotation profiles were not found in `reference.varm[\"Clusters\"]`. Constructing reference profiles with `tacco.preprocessing.construct_reference_profiles` and default arguments...\n",
      "Finished preprocessing in 11.4 seconds.\n",
      "Starting annotation of data with shape (2928, 17229) and a reference of shape (21699, 17229) using the following wrapped method:\n",
      "+- platform normalization: platform_iterations=0, gene_keys=Clusters, normalize_to=adata\n",
      "   +- multi center: multi_center=None multi_center_amplitudes=True\n",
      "      +- bisection boost: bisections=4, bisection_divisor=3\n",
      "         +- core: method=OT annotation_prior=None\n",
      "mean,std( rescaling(gene) )  1.307511560884461 2.123197613143025\n",
      "bisection run on 1\n",
      "bisection run on 0.6666666666666667\n",
      "bisection run on 0.4444444444444444\n",
      "bisection run on 0.2962962962962963\n",
      "bisection run on 0.19753086419753085\n",
      "bisection run on 0.09876543209876543\n",
      "Finished annotation in 11.38 seconds.\n"
     ]
    }
   ],
   "source": [
    "adata_spatial=adata1[adata1.obs['Sample']=='OSU20166_PA'].copy()\n",
    "adata_sc=adata.copy()\n",
    "tc.tl.annotate(adata_spatial, adata_sc, annotation_key='Clusters', result_key='deconv_annotation')\n",
    "adata_spatial.obsm['deconv_annotation'].to_csv('./maple_results/Atlas_OSU20166_PA_all.csv')"
   ]
  },
  {
   "cell_type": "code",
   "execution_count": 38,
   "id": "fbfab095-93a6-4799-9f2b-b6fea5e23668",
   "metadata": {},
   "outputs": [],
   "source": [
    "# using OSU20166_PA spatial +  scRNA-seq WL_20132,WL_20166"
   ]
  },
  {
   "cell_type": "code",
   "execution_count": 39,
   "id": "f048350a-0a08-4b2e-8710-cb4868a73277",
   "metadata": {},
   "outputs": [
    {
     "name": "stdout",
     "output_type": "stream",
     "text": [
      "Starting preprocessing\n",
      "Annotation profiles were not found in `reference.varm[\"Clusters\"]`. Constructing reference profiles with `tacco.preprocessing.construct_reference_profiles` and default arguments...\n",
      "Finished preprocessing in 2.57 seconds.\n",
      "Starting annotation of data with shape (2928, 15304) and a reference of shape (4138, 15304) using the following wrapped method:\n",
      "+- platform normalization: platform_iterations=0, gene_keys=Clusters, normalize_to=adata\n",
      "   +- multi center: multi_center=None multi_center_amplitudes=True\n",
      "      +- bisection boost: bisections=4, bisection_divisor=3\n",
      "         +- core: method=OT annotation_prior=None\n",
      "mean,std( rescaling(gene) )  3.968230286080189 9.031180026359946\n",
      "bisection run on 1\n",
      "bisection run on 0.6666666666666667\n",
      "bisection run on 0.4444444444444444\n",
      "bisection run on 0.2962962962962963\n",
      "bisection run on 0.19753086419753085\n",
      "bisection run on 0.09876543209876543\n",
      "Finished annotation in 7.13 seconds.\n"
     ]
    }
   ],
   "source": [
    "adata_spatial=adata1[adata1.obs['Sample']=='OSU20166_PA'].copy()\n",
    "adata_sc=adata[(adata.obs['Sample']=='WL_20132')|(adata.obs['Sample']=='WL_20166')].copy()\n",
    "tc.tl.annotate(adata_spatial, adata_sc, annotation_key='Clusters', result_key='deconv_annotation')\n",
    "adata_spatial.obsm['deconv_annotation'].to_csv('./maple_results/Atlas_OSU20166_PA_PA.csv')"
   ]
  },
  {
   "cell_type": "code",
   "execution_count": null,
   "id": "a4a3dd66-8988-437c-8031-18e610633f7f",
   "metadata": {},
   "outputs": [],
   "source": []
  },
  {
   "cell_type": "code",
   "execution_count": null,
   "id": "5f94871e-c8b4-4d64-a3be-a58c8544d2ee",
   "metadata": {},
   "outputs": [],
   "source": []
  },
  {
   "cell_type": "code",
   "execution_count": null,
   "id": "c724ecf0-ff1c-4d1b-abbb-bf009b4e312f",
   "metadata": {},
   "outputs": [],
   "source": []
  },
  {
   "cell_type": "code",
   "execution_count": null,
   "id": "8ef86a6f-d556-423e-80ba-0ce0b31122ac",
   "metadata": {},
   "outputs": [],
   "source": []
  },
  {
   "cell_type": "code",
   "execution_count": null,
   "id": "1c058c46-0cac-477e-9842-65ffe695506a",
   "metadata": {},
   "outputs": [],
   "source": []
  },
  {
   "cell_type": "code",
   "execution_count": null,
   "id": "5d79400b-5527-413e-adb3-64c443b2b1f0",
   "metadata": {},
   "outputs": [],
   "source": []
  },
  {
   "cell_type": "code",
   "execution_count": null,
   "id": "e5d25236-c196-43b5-96c5-fc28a5c5332a",
   "metadata": {},
   "outputs": [],
   "source": []
  },
  {
   "cell_type": "code",
   "execution_count": null,
   "id": "f2f76a50-4aca-4b4f-a63a-f6a9bdd6ae25",
   "metadata": {},
   "outputs": [],
   "source": []
  },
  {
   "cell_type": "code",
   "execution_count": null,
   "id": "cf27f6ff-7728-41a0-be14-6a3a9f66f104",
   "metadata": {},
   "outputs": [],
   "source": []
  },
  {
   "cell_type": "code",
   "execution_count": null,
   "id": "7b3a2a91-da12-49e6-b2cc-dd3c482b5270",
   "metadata": {},
   "outputs": [],
   "source": []
  },
  {
   "cell_type": "code",
   "execution_count": 40,
   "id": "9e87df0d-c27e-4ee2-b802-bd443364fa14",
   "metadata": {},
   "outputs": [],
   "source": [
    "# using whole data"
   ]
  },
  {
   "cell_type": "code",
   "execution_count": 32,
   "id": "f150d647-f969-4630-8b69-b7a27fa74bc3",
   "metadata": {},
   "outputs": [
    {
     "name": "stdout",
     "output_type": "stream",
     "text": [
      "Starting preprocessing\n",
      "Finished preprocessing in 14.85 seconds.\n",
      "Starting annotation of data with shape (20373, 17234) and a reference of shape (21699, 17234) using the following wrapped method:\n",
      "+- platform normalization: platform_iterations=0, gene_keys=Clusters, normalize_to=adata\n",
      "   +- multi center: multi_center=None multi_center_amplitudes=True\n",
      "      +- bisection boost: bisections=4, bisection_divisor=3\n",
      "         +- core: method=OT annotation_prior=None\n",
      "mean,std( rescaling(gene) )  5.451601885029508 29.223875816905124\n",
      "bisection run on 1\n",
      "bisection run on 0.6666666666666667\n",
      "bisection run on 0.4444444444444444\n",
      "bisection run on 0.2962962962962963\n",
      "bisection run on 0.19753086419753085\n",
      "bisection run on 0.09876543209876543\n",
      "Finished annotation in 45.72 seconds.\n"
     ]
    },
    {
     "data": {
      "text/plain": [
       "AnnData object with n_obs × n_vars = 20373 × 18929\n",
       "    obs: 'orig.ident', 'nCount_Spatial', 'nFeature_Spatial', 'Status', 'Area', 'Parenchymal_area', 'Sample', 'nCount_SCT', 'nFeature_SCT'\n",
       "    obsm: 'deconv_annotation'\n",
       "    varm: 'deconv_annotation'"
      ]
     },
     "execution_count": 32,
     "metadata": {},
     "output_type": "execute_result"
    }
   ],
   "source": [
    "tc.tl.annotate(adata1, adata, annotation_key='Clusters', result_key='deconv_annotation')"
   ]
  },
  {
   "cell_type": "code",
   "execution_count": 35,
   "id": "a36e1deb-dd2e-4852-9d29-c2e1dda72071",
   "metadata": {},
   "outputs": [],
   "source": [
    "adata1.obsm['deconv_annotation'].to_csv('Manual_whole_deconv.csv')"
   ]
  },
  {
   "cell_type": "code",
   "execution_count": 37,
   "id": "c0328873-99a9-4f8c-bcd0-130e65b8cb1d",
   "metadata": {},
   "outputs": [
    {
     "data": {
      "text/plain": [
       "IPF        17561\n",
       "Healthy     4138\n",
       "Name: Status, dtype: int64"
      ]
     },
     "execution_count": 37,
     "metadata": {},
     "output_type": "execute_result"
    }
   ],
   "source": [
    "adata.obs['Status'].value_counts()"
   ]
  },
  {
   "cell_type": "code",
   "execution_count": null,
   "id": "f5ef0d38-fe1c-4d43-a067-4c6d51d96d66",
   "metadata": {},
   "outputs": [],
   "source": []
  },
  {
   "cell_type": "code",
   "execution_count": null,
   "id": "720401b6-ce2b-458d-8747-18ba29defc0b",
   "metadata": {},
   "outputs": [],
   "source": [
    "# only for healthy data"
   ]
  },
  {
   "cell_type": "code",
   "execution_count": 8,
   "id": "18983b0b-cfc0-40ab-bf45-505b5c668a5b",
   "metadata": {},
   "outputs": [],
   "source": [
    "scrna_subset=adata[adata.obs['Status']=='Healthy'].copy()\n",
    "spatial_subset=adata1[adata1.obs['Status']=='Healthy'].copy()"
   ]
  },
  {
   "cell_type": "code",
   "execution_count": 10,
   "id": "4372c2c3-74f5-40ff-aa27-76a57715ec9e",
   "metadata": {},
   "outputs": [
    {
     "data": {
      "text/plain": [
       "AnnData object with n_obs × n_vars = 6102 × 18929\n",
       "    obs: 'orig.ident', 'nCount_Spatial', 'nFeature_Spatial', 'Status', 'Area', 'Parenchymal_area', 'Sample', 'nCount_SCT', 'nFeature_SCT'"
      ]
     },
     "execution_count": 10,
     "metadata": {},
     "output_type": "execute_result"
    }
   ],
   "source": [
    "spatial_subset"
   ]
  },
  {
   "cell_type": "code",
   "execution_count": null,
   "id": "9f11eb24-2b24-4b8b-9735-2a562eb34bc3",
   "metadata": {},
   "outputs": [],
   "source": []
  },
  {
   "cell_type": "code",
   "execution_count": 11,
   "id": "597d30a2-6dc2-438b-8918-8d9cb384733b",
   "metadata": {},
   "outputs": [
    {
     "name": "stdout",
     "output_type": "stream",
     "text": [
      "Starting preprocessing\n",
      "Annotation profiles were not found in `reference.varm[\"Clusters\"]`. Constructing reference profiles with `tacco.preprocessing.construct_reference_profiles` and default arguments...\n",
      "Finished preprocessing in 3.64 seconds.\n",
      "Starting annotation of data with shape (6102, 15305) and a reference of shape (4138, 15305) using the following wrapped method:\n",
      "+- platform normalization: platform_iterations=0, gene_keys=Clusters, normalize_to=adata\n",
      "   +- multi center: multi_center=None multi_center_amplitudes=True\n",
      "      +- bisection boost: bisections=4, bisection_divisor=3\n",
      "         +- core: method=OT annotation_prior=None\n",
      "mean,std( rescaling(gene) )  6.670979136524565 19.675134702947602\n",
      "bisection run on 1\n",
      "bisection run on 0.6666666666666667\n",
      "bisection run on 0.4444444444444444\n",
      "bisection run on 0.2962962962962963\n",
      "bisection run on 0.19753086419753085\n",
      "bisection run on 0.09876543209876543\n",
      "Finished annotation in 12.86 seconds.\n"
     ]
    },
    {
     "data": {
      "text/plain": [
       "AnnData object with n_obs × n_vars = 6102 × 18929\n",
       "    obs: 'orig.ident', 'nCount_Spatial', 'nFeature_Spatial', 'Status', 'Area', 'Parenchymal_area', 'Sample', 'nCount_SCT', 'nFeature_SCT'\n",
       "    obsm: 'deconv_annotation'\n",
       "    varm: 'deconv_annotation'"
      ]
     },
     "execution_count": 11,
     "metadata": {},
     "output_type": "execute_result"
    }
   ],
   "source": [
    "tc.tl.annotate(spatial_subset, scrna_subset, annotation_key='Clusters', result_key='deconv_annotation')"
   ]
  },
  {
   "cell_type": "code",
   "execution_count": 12,
   "id": "6fc5d61a-c1e9-4cf8-acec-05b001d3147b",
   "metadata": {},
   "outputs": [],
   "source": [
    "spatial_subset.obsm['deconv_annotation'].to_csv('Manual_Healthy_deconv.csv')"
   ]
  },
  {
   "cell_type": "code",
   "execution_count": 13,
   "id": "e50e79d9-e76e-4ada-8d90-f24a5bd4c225",
   "metadata": {},
   "outputs": [],
   "source": [
    "# using IPF UL"
   ]
  },
  {
   "cell_type": "code",
   "execution_count": 22,
   "id": "365358dd-0414-4a9b-9b19-7da9b3aa17ed",
   "metadata": {},
   "outputs": [],
   "source": [
    "scrna_subset=adata[(adata.obs['Status']=='IPF')&(adata.obs['Area']=='Upper Lobe')].copy()\n",
    "spatial_subset=adata1[(adata1.obs['Status']=='IPF')&(adata1.obs['Parenchymal_area']=='UL')].copy()"
   ]
  },
  {
   "cell_type": "code",
   "execution_count": 23,
   "id": "869ac607-405c-47b0-8cf2-73671ea55569",
   "metadata": {},
   "outputs": [
    {
     "name": "stdout",
     "output_type": "stream",
     "text": [
      "Starting preprocessing\n",
      "Annotation profiles were not found in `reference.varm[\"Clusters\"]`. Constructing reference profiles with `tacco.preprocessing.construct_reference_profiles` and default arguments...\n",
      "Finished preprocessing in 4.49 seconds.\n",
      "Starting annotation of data with shape (7297, 15627) and a reference of shape (5439, 15627) using the following wrapped method:\n",
      "+- platform normalization: platform_iterations=0, gene_keys=Clusters, normalize_to=adata\n",
      "   +- multi center: multi_center=None multi_center_amplitudes=True\n",
      "      +- bisection boost: bisections=4, bisection_divisor=3\n",
      "         +- core: method=OT annotation_prior=None\n",
      "mean,std( rescaling(gene) )  10.885891358219489 106.23804704890262\n",
      "bisection run on 1\n",
      "bisection run on 0.6666666666666667\n",
      "bisection run on 0.4444444444444444\n",
      "bisection run on 0.2962962962962963\n",
      "bisection run on 0.19753086419753085\n",
      "bisection run on 0.09876543209876543\n",
      "Finished annotation in 15.45 seconds.\n"
     ]
    },
    {
     "data": {
      "text/plain": [
       "AnnData object with n_obs × n_vars = 7297 × 18929\n",
       "    obs: 'orig.ident', 'nCount_Spatial', 'nFeature_Spatial', 'Status', 'Area', 'Parenchymal_area', 'Sample', 'nCount_SCT', 'nFeature_SCT'\n",
       "    obsm: 'deconv_annotation'\n",
       "    varm: 'deconv_annotation'"
      ]
     },
     "execution_count": 23,
     "metadata": {},
     "output_type": "execute_result"
    }
   ],
   "source": [
    "tc.tl.annotate(spatial_subset, scrna_subset, annotation_key='Clusters', result_key='deconv_annotation')"
   ]
  },
  {
   "cell_type": "code",
   "execution_count": 24,
   "id": "c6d06de6-21ea-49a5-a265-aaf838a35e37",
   "metadata": {},
   "outputs": [],
   "source": [
    "spatial_subset.obsm['deconv_annotation'].to_csv('Manual_IPF_UL_deconv.csv')"
   ]
  },
  {
   "cell_type": "code",
   "execution_count": 25,
   "id": "97a7d629-69ad-40a1-971b-0fc0c9acd0b5",
   "metadata": {},
   "outputs": [],
   "source": [
    "# using IPF LL"
   ]
  },
  {
   "cell_type": "code",
   "execution_count": 26,
   "id": "be21fa31-d4ba-4b98-ba94-7a6b0ae71659",
   "metadata": {},
   "outputs": [],
   "source": [
    "scrna_subset=adata[(adata.obs['Status']=='IPF')&(adata.obs['Area']=='Lower Lobe')].copy()\n",
    "spatial_subset=adata1[(adata1.obs['Status']=='IPF')&(adata1.obs['Parenchymal_area']=='LL')].copy()"
   ]
  },
  {
   "cell_type": "code",
   "execution_count": 27,
   "id": "0fb21b75-add4-428e-83f4-611a8c623f10",
   "metadata": {},
   "outputs": [
    {
     "name": "stdout",
     "output_type": "stream",
     "text": [
      "Starting preprocessing\n",
      "Annotation profiles were not found in `reference.varm[\"Clusters\"]`. Constructing reference profiles with `tacco.preprocessing.construct_reference_profiles` and default arguments...\n",
      "Finished preprocessing in 7.25 seconds.\n",
      "Starting annotation of data with shape (6974, 16044) and a reference of shape (12122, 16044) using the following wrapped method:\n",
      "+- platform normalization: platform_iterations=0, gene_keys=Clusters, normalize_to=adata\n",
      "   +- multi center: multi_center=None multi_center_amplitudes=True\n",
      "      +- bisection boost: bisections=4, bisection_divisor=3\n",
      "         +- core: method=OT annotation_prior=None\n",
      "mean,std( rescaling(gene) )  3.0683157556306417 58.478898781943144\n",
      "bisection run on 1\n",
      "bisection run on 0.6666666666666667\n",
      "bisection run on 0.4444444444444444\n",
      "bisection run on 0.2962962962962963\n",
      "bisection run on 0.19753086419753085\n",
      "bisection run on 0.09876543209876543\n",
      "Finished annotation in 15.19 seconds.\n"
     ]
    },
    {
     "data": {
      "text/plain": [
       "AnnData object with n_obs × n_vars = 6974 × 18929\n",
       "    obs: 'orig.ident', 'nCount_Spatial', 'nFeature_Spatial', 'Status', 'Area', 'Parenchymal_area', 'Sample', 'nCount_SCT', 'nFeature_SCT'\n",
       "    obsm: 'deconv_annotation'\n",
       "    varm: 'deconv_annotation'"
      ]
     },
     "execution_count": 27,
     "metadata": {},
     "output_type": "execute_result"
    }
   ],
   "source": [
    "tc.tl.annotate(spatial_subset, scrna_subset, annotation_key='Clusters', result_key='deconv_annotation')"
   ]
  },
  {
   "cell_type": "code",
   "execution_count": 28,
   "id": "73d20142-9bb0-4b2f-a3f1-8a26ef73af3e",
   "metadata": {},
   "outputs": [],
   "source": [
    "spatial_subset.obsm['deconv_annotation'].to_csv('Manual_IPF_LL_deconv.csv')"
   ]
  },
  {
   "cell_type": "code",
   "execution_count": null,
   "id": "3aafda20-7712-4da3-b5f3-be611c5a7f47",
   "metadata": {},
   "outputs": [],
   "source": []
  },
  {
   "cell_type": "code",
   "execution_count": null,
   "id": "7a2a4057-e3a2-472c-a034-d423f93799df",
   "metadata": {},
   "outputs": [],
   "source": []
  },
  {
   "cell_type": "code",
   "execution_count": null,
   "id": "204ce73d-cd2b-4cda-9488-6d5c3af16a51",
   "metadata": {},
   "outputs": [],
   "source": []
  },
  {
   "cell_type": "code",
   "execution_count": null,
   "id": "064f651c-63a3-47f7-840b-b55e22e82485",
   "metadata": {},
   "outputs": [],
   "source": []
  },
  {
   "cell_type": "code",
   "execution_count": null,
   "id": "d4716a7b-3cf9-42ab-bc3a-526a43de2e99",
   "metadata": {},
   "outputs": [],
   "source": []
  },
  {
   "cell_type": "code",
   "execution_count": null,
   "id": "0300902e",
   "metadata": {},
   "outputs": [],
   "source": []
  },
  {
   "cell_type": "code",
   "execution_count": 31,
   "id": "432e2a62",
   "metadata": {},
   "outputs": [
    {
     "data": {
      "text/plain": [
       "19456"
      ]
     },
     "execution_count": 31,
     "metadata": {},
     "output_type": "execute_result"
    }
   ],
   "source": [
    "1024*19"
   ]
  },
  {
   "cell_type": "code",
   "execution_count": null,
   "id": "de18b85c-fedd-472d-bee7-0cc5f038bf83",
   "metadata": {},
   "outputs": [],
   "source": []
  }
 ],
 "metadata": {
  "kernelspec": {
   "display_name": "Python (Sencell)",
   "language": "python",
   "name": "sencell"
  },
  "language_info": {
   "codemirror_mode": {
    "name": "ipython",
    "version": 3
   },
   "file_extension": ".py",
   "mimetype": "text/x-python",
   "name": "python",
   "nbconvert_exporter": "python",
   "pygments_lexer": "ipython3",
   "version": "3.8.17"
  }
 },
 "nbformat": 4,
 "nbformat_minor": 5
}

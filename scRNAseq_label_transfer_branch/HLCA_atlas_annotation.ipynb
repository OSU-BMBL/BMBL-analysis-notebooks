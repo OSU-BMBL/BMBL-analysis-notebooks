{
 "cells": [
  {
   "cell_type": "code",
   "execution_count": 1,
   "id": "3f1a689b",
   "metadata": {},
   "outputs": [],
   "source": [
    "import os\n",
    "\n",
    "import warnings\n",
    "\n",
    "warnings.simplefilter(action=\"ignore\", category=FutureWarning)\n",
    "warnings.simplefilter(action=\"ignore\", category=DeprecationWarning)\n",
    "warnings.simplefilter(action=\"ignore\", category=UserWarning)"
   ]
  },
  {
   "cell_type": "code",
   "execution_count": 2,
   "id": "aeb5aa9c",
   "metadata": {},
   "outputs": [
    {
     "name": "stderr",
     "output_type": "stream",
     "text": [
      "Global seed set to 0\n",
      "WARNING:root:In order to use sagenet models, please install pytorch geometric (see https://pytorch-geometric.readthedocs.io) and \n",
      " captum (see https://github.com/pytorch/captum).\n",
      "WARNING:root:mvTCR is not installed. To use mvTCR models, please install it first using \"pip install mvtcr\"\n",
      "WARNING:root:multigrate is not installed. To use multigrate models, please install it first using \"pip install multigrate\".\n"
     ]
    }
   ],
   "source": [
    "import sys\n",
    "import scanpy as sc\n",
    "import numpy as np\n",
    "import pandas as pd\n",
    "import scarches as sca\n",
    "import anndata as ad\n",
    "from scipy import sparse\n",
    "import gdown\n",
    "import gzip\n",
    "import shutil\n",
    "import urllib.request"
   ]
  },
  {
   "cell_type": "code",
   "execution_count": 3,
   "id": "3295ee20",
   "metadata": {},
   "outputs": [],
   "source": [
    "sc.settings.set_figure_params(dpi=200, frameon=False)\n",
    "sc.set_figure_params(dpi=200)\n",
    "sc.set_figure_params(figsize=(4, 4))"
   ]
  },
  {
   "cell_type": "code",
   "execution_count": 4,
   "id": "a68c93c1",
   "metadata": {},
   "outputs": [],
   "source": [
    "ref_model_dir_prefix = \"/bmbl_data/chenghao/reference/HLCA_reference\"  # directory in which to store the reference model directory\n",
    "\n",
    "# url = \"https://zenodo.org/record/7599104/files/HLCA_reference_model.zip\"\n",
    "# output = \"HLCA_reference_model.zip\"\n",
    "# gdown.download(url, output, quiet=False)\n",
    "# shutil.unpack_archive(\"HLCA_reference_model.zip\", extract_dir=ref_model_dir_prefix)\n",
    "# os.remove(output)"
   ]
  },
  {
   "cell_type": "code",
   "execution_count": 5,
   "id": "0a51aa74",
   "metadata": {},
   "outputs": [],
   "source": [
    "url = \"https://zenodo.org/record/7599104/files/HLCA_full_v1.1_emb.h5ad\"\n",
    "path_reference_emb = (\n",
    "    \"/bmbl_data/chenghao/reference/HLCA_emb_and_metadata.h5ad\"  # path to reference embedding to be created\n",
    ")\n",
    "# output = path_reference_emb\n",
    "# gdown.download(url, output, quiet=False)"
   ]
  },
  {
   "cell_type": "code",
   "execution_count": 6,
   "id": "97136b7b",
   "metadata": {},
   "outputs": [],
   "source": [
    "adata_ref = sc.read_h5ad(path_reference_emb)"
   ]
  },
  {
   "cell_type": "code",
   "execution_count": 7,
   "id": "d505dfaf",
   "metadata": {},
   "outputs": [],
   "source": [
    "# subset\n",
    "adata_ref = adata_ref = adata_ref[adata_ref.obs.core_or_extension == \"core\", :].copy()\n",
    "# remove all obs variables that have no entries anymore (i.e. obs columns that were only relevant for the HLCA extension)\n",
    "cols_to_drop = [\n",
    "    col for col in adata_ref.obs.columns if adata_ref.obs[col].isnull().all()\n",
    "]\n",
    "adata_ref.obs.drop(columns=cols_to_drop, inplace=True)"
   ]
  },
  {
   "cell_type": "code",
   "execution_count": 8,
   "id": "a15fd0fb",
   "metadata": {},
   "outputs": [
    {
     "data": {
      "text/plain": [
       "AnnData object with n_obs × n_vars = 15352 × 18082\n",
       "    obs: 'sample'\n",
       "    var: 'gene_ids', 'feature_types'"
      ]
     },
     "execution_count": 8,
     "metadata": {},
     "output_type": "execute_result"
    }
   ],
   "source": [
    "adata_query_unprep=sc.read_h5ad('/bmbl_data/chenghao/U54/data-0727.h5ad')\n",
    "adata_query_unprep"
   ]
  },
  {
   "cell_type": "code",
   "execution_count": 1,
   "id": "d1af77bd-c96c-4d79-aabe-7b1c5d9b8414",
   "metadata": {},
   "outputs": [
    {
     "ename": "NameError",
     "evalue": "name 'adata_query_unprep' is not defined",
     "output_type": "error",
     "traceback": [
      "\u001b[0;31m---------------------------------------------------------------------------\u001b[0m",
      "\u001b[0;31mNameError\u001b[0m                                 Traceback (most recent call last)",
      "Cell \u001b[0;32mIn[1], line 1\u001b[0m\n\u001b[0;32m----> 1\u001b[0m \u001b[43madata_query_unprep\u001b[49m\u001b[38;5;241m.\u001b[39mobs[\u001b[38;5;124m'\u001b[39m\u001b[38;5;124msample\u001b[39m\u001b[38;5;124m'\u001b[39m]\u001b[38;5;241m.\u001b[39mvalue_counts()\n",
      "\u001b[0;31mNameError\u001b[0m: name 'adata_query_unprep' is not defined"
     ]
    }
   ],
   "source": [
    "adata_query_unprep.obs['sample'].value_counts()"
   ]
  },
  {
   "cell_type": "code",
   "execution_count": 10,
   "id": "3784a66f",
   "metadata": {},
   "outputs": [],
   "source": [
    "raw_data=sc.read_csv(\"/bmbl_data/chenghao/sencell/fixRNA_counts.csv\")"
   ]
  },
  {
   "cell_type": "code",
   "execution_count": 12,
   "id": "208e8d36",
   "metadata": {},
   "outputs": [],
   "source": [
    "adata_query_unprep.X=raw_data.X.T"
   ]
  },
  {
   "cell_type": "code",
   "execution_count": 13,
   "id": "76b05ef5",
   "metadata": {},
   "outputs": [],
   "source": [
    "adata_query_unprep.X = sparse.csr_matrix(adata_query_unprep.X)"
   ]
  },
  {
   "cell_type": "code",
   "execution_count": 14,
   "id": "f7ebb091",
   "metadata": {},
   "outputs": [],
   "source": [
    "del adata_query_unprep.obsm\n",
    "del adata_query_unprep.varm"
   ]
  },
  {
   "cell_type": "code",
   "execution_count": 10,
   "id": "a30177ec",
   "metadata": {},
   "outputs": [],
   "source": [
    "ref_model_features = pd.read_csv(\n",
    "    os.path.join(\"/bmbl_data/chenghao/reference/HLCA_reference/HLCA_reference_model\", \"var_names.csv\"), header=None\n",
    ")"
   ]
  },
  {
   "cell_type": "code",
   "execution_count": 11,
   "id": "a52c8eac",
   "metadata": {},
   "outputs": [],
   "source": [
    "ref_path=\"/bmbl_data/chenghao/reference/HLCA_reference/HLCA_reference_model\"\n",
    "path_gene_mapping_df = os.path.join(ref_path, \"HLCA_reference_model_gene_order_ids_and_symbols.csv\")\n",
    "# # Download gene information from HLCA github:\n",
    "url = \"https://zenodo.org/record/7599104/files/HLCA_reference_model_gene_order_ids_and_symbols.csv\" \n",
    "# gdown.download(url, path_gene_mapping_df, quiet=False)"
   ]
  },
  {
   "cell_type": "code",
   "execution_count": 12,
   "id": "9c559eac",
   "metadata": {},
   "outputs": [
    {
     "name": "stdout",
     "output_type": "stream",
     "text": [
      "Number of model input genes detected: 1731 out of 2000 (87%)\n"
     ]
    }
   ],
   "source": [
    "import pandas as pd\n",
    "gene_id_to_gene_name_df = pd.read_csv(path_gene_mapping_df, index_col=0)\n",
    "adata_query_unprep.var[\"gene_names\"] = adata_query_unprep.var.index\n",
    "gene_name_column_name = \"gene_names\"\n",
    "n_overlap = (\n",
    "    adata_query_unprep.var[gene_name_column_name]\n",
    "    .isin(gene_id_to_gene_name_df.gene_symbol)\n",
    "    .sum()\n",
    ")\n",
    "n_genes_model = gene_id_to_gene_name_df.shape[0]\n",
    "print(\n",
    "    f\"Number of model input genes detected: {n_overlap} out of {n_genes_model} ({round(n_overlap/n_genes_model*100)}%)\"\n",
    ")"
   ]
  },
  {
   "cell_type": "code",
   "execution_count": 13,
   "id": "a5b3309e",
   "metadata": {},
   "outputs": [],
   "source": [
    "adata_query_unprep = adata_query_unprep[\n",
    "    :,\n",
    "    adata_query_unprep.var[gene_name_column_name].isin(\n",
    "        gene_id_to_gene_name_df.gene_symbol\n",
    "    ),\n",
    "].copy()  # subset your data to genes used in the reference model\n",
    "adata_query_unprep.var.index = adata_query_unprep.var[gene_name_column_name].map(\n",
    "    dict(zip(gene_id_to_gene_name_df.gene_symbol, gene_id_to_gene_name_df.index))\n",
    ")  # add gene ids for the gene names, and store in .var.index\n",
    "# remove index name to prevent bugs later on\n",
    "adata_query_unprep.var.index.name = None\n",
    "adata_query_unprep.var[\"gene_ids\"] = adata_query_unprep.var.index"
   ]
  },
  {
   "cell_type": "code",
   "execution_count": 14,
   "id": "ffa81c41",
   "metadata": {},
   "outputs": [
    {
     "data": {
      "text/plain": [
       "(15352, 1731)"
      ]
     },
     "execution_count": 14,
     "metadata": {},
     "output_type": "execute_result"
    }
   ],
   "source": [
    "adata_query_unprep.shape"
   ]
  },
  {
   "cell_type": "code",
   "execution_count": 15,
   "id": "00db832e",
   "metadata": {},
   "outputs": [],
   "source": [
    "import anndata as ad\n",
    "from scipy import sparse\n",
    "\n",
    "def sum_by(adata: ad.AnnData, col: str) -> ad.AnnData:\n",
    "    adata.strings_to_categoricals()\n",
    "    adata.obs[col] = adata.obs[col].astype('category')\n",
    "\n",
    "    assert pd.api.types.is_categorical_dtype(adata.obs[col])\n",
    "\n",
    "    cat = adata.obs[col].values\n",
    "    indicator = sparse.coo_matrix(\n",
    "        (np.broadcast_to(True, adata.n_obs), (cat.codes, np.arange(adata.n_obs))),\n",
    "        shape=(len(cat.categories), adata.n_obs),\n",
    "    )\n",
    "\n",
    "    return ad.AnnData(\n",
    "        indicator @ adata.X, var=adata.var, obs=pd.DataFrame(index=cat.categories)\n",
    "    )\n",
    "\n",
    "\n",
    "adata_query_unprep = sum_by(adata_query_unprep.transpose(), col=\"gene_ids\").transpose()"
   ]
  },
  {
   "cell_type": "code",
   "execution_count": 16,
   "id": "c39ea52f",
   "metadata": {},
   "outputs": [
    {
     "data": {
      "text/plain": [
       "(15352, 1731)"
      ]
     },
     "execution_count": 16,
     "metadata": {},
     "output_type": "execute_result"
    }
   ],
   "source": [
    "adata_query_unprep.shape"
   ]
  },
  {
   "cell_type": "code",
   "execution_count": 17,
   "id": "7baed9fb",
   "metadata": {},
   "outputs": [],
   "source": [
    "adata_query_unprep.var = adata_query_unprep.var.join(gene_id_to_gene_name_df).rename(columns={\"gene_symbol\":\"gene_names\"})"
   ]
  },
  {
   "cell_type": "code",
   "execution_count": 18,
   "id": "fbf3136d",
   "metadata": {},
   "outputs": [
    {
     "data": {
      "text/plain": [
       "True"
      ]
     },
     "execution_count": 18,
     "metadata": {},
     "output_type": "execute_result"
    }
   ],
   "source": [
    "adata_query_unprep.obs_names.is_unique"
   ]
  },
  {
   "cell_type": "code",
   "execution_count": 19,
   "id": "83ea9785",
   "metadata": {},
   "outputs": [
    {
     "data": {
      "text/plain": [
       "AnnData object with n_obs × n_vars = 15352 × 1731\n",
       "    obs: 'sample'\n",
       "    var: 'gene_names'"
      ]
     },
     "execution_count": 19,
     "metadata": {},
     "output_type": "execute_result"
    }
   ],
   "source": [
    "adata_query_unprep"
   ]
  },
  {
   "cell_type": "code",
   "execution_count": 20,
   "id": "f7a841c0",
   "metadata": {},
   "outputs": [
    {
     "name": "stdout",
     "output_type": "stream",
     "text": [
      "\u001b[34mINFO    \u001b[0m File \u001b[35m/bmbl_data/chenghao/reference/HLCA_reference/HLCA_reference_model/\u001b[0m\u001b[95mmodel.pt\u001b[0m already downloaded        \n",
      "\u001b[34mINFO    \u001b[0m Found \u001b[1;36m86.55000000000001\u001b[0m% reference vars in query data.                                                    \n"
     ]
    }
   ],
   "source": [
    "adata_query = sca.models.SCANVI.prepare_query_anndata(\n",
    "    adata=adata_query_unprep, reference_model=ref_path, inplace=False\n",
    ")"
   ]
  },
  {
   "cell_type": "code",
   "execution_count": 21,
   "id": "a0cd8dbc",
   "metadata": {},
   "outputs": [
    {
     "data": {
      "text/plain": [
       "AnnData object with n_obs × n_vars = 15352 × 1731\n",
       "    obs: 'sample'\n",
       "    var: 'gene_names'"
      ]
     },
     "execution_count": 21,
     "metadata": {},
     "output_type": "execute_result"
    }
   ],
   "source": [
    "adata_query_unprep"
   ]
  },
  {
   "cell_type": "code",
   "execution_count": 22,
   "id": "12358916",
   "metadata": {},
   "outputs": [],
   "source": [
    "adata_query.obs[\"dataset\"] = \"batch1\""
   ]
  },
  {
   "cell_type": "code",
   "execution_count": 23,
   "id": "94d487ed",
   "metadata": {
    "scrolled": true
   },
   "outputs": [
    {
     "data": {
      "text/plain": [
       "AnnData object with n_obs × n_vars = 15352 × 2000\n",
       "    obs: 'sample', 'dataset'\n",
       "    var: 'gene_names'"
      ]
     },
     "execution_count": 23,
     "metadata": {},
     "output_type": "execute_result"
    }
   ],
   "source": [
    "adata_query"
   ]
  },
  {
   "cell_type": "code",
   "execution_count": null,
   "id": "5f42380f",
   "metadata": {},
   "outputs": [],
   "source": []
  },
  {
   "cell_type": "code",
   "execution_count": 24,
   "id": "d9b3c729",
   "metadata": {},
   "outputs": [
    {
     "name": "stdout",
     "output_type": "stream",
     "text": [
      "\u001b[34mINFO    \u001b[0m File \u001b[35m/bmbl_data/chenghao/reference/HLCA_reference/HLCA_reference_model/\u001b[0m\u001b[95mmodel.pt\u001b[0m already downloaded        \n"
     ]
    },
    {
     "name": "stderr",
     "output_type": "stream",
     "text": [
      "WARNING:jax._src.xla_bridge:No GPU/TPU found, falling back to CPU. (Set TF_CPP_MIN_LOG_LEVEL=0 and rerun for more info.)\n"
     ]
    }
   ],
   "source": [
    "surgery_model = sca.models.SCANVI.load_query_data(\n",
    "    adata_query,\n",
    "    ref_path,\n",
    "    freeze_dropout=True,\n",
    ")"
   ]
  },
  {
   "cell_type": "code",
   "execution_count": 25,
   "id": "1bbca5eb",
   "metadata": {},
   "outputs": [],
   "source": [
    "adata_query.obs[\"scanvi_label\"] = \"unlabeled\"\n"
   ]
  },
  {
   "cell_type": "code",
   "execution_count": 26,
   "id": "2afbf7a6",
   "metadata": {},
   "outputs": [
    {
     "name": "stdout",
     "output_type": "stream",
     "text": [
      "\u001b[34mINFO    \u001b[0m File \u001b[35m/bmbl_data/chenghao/reference/HLCA_reference/HLCA_reference_model/\u001b[0m\u001b[95mmodel.pt\u001b[0m already downloaded        \n"
     ]
    }
   ],
   "source": [
    "surgery_model = sca.models.SCANVI.load_query_data(\n",
    "    adata_query,\n",
    "    ref_path,\n",
    "    freeze_dropout=True,\n",
    ")"
   ]
  },
  {
   "cell_type": "code",
   "execution_count": 27,
   "id": "20e13081",
   "metadata": {},
   "outputs": [],
   "source": [
    "surgery_epochs = 50\n",
    "early_stopping_kwargs_surgery = {\n",
    "    \"early_stopping_monitor\": \"elbo_train\",\n",
    "    \"early_stopping_patience\": 10,\n",
    "    \"early_stopping_min_delta\": 0.001,\n",
    "    \"plan_kwargs\": {\"weight_decay\": 0.0},\n",
    "}"
   ]
  },
  {
   "cell_type": "code",
   "execution_count": 28,
   "id": "5fc0fc50",
   "metadata": {},
   "outputs": [
    {
     "data": {
      "text/plain": [
       "True"
      ]
     },
     "execution_count": 28,
     "metadata": {},
     "output_type": "execute_result"
    }
   ],
   "source": [
    "import torch\n",
    "torch.cuda.is_available()"
   ]
  },
  {
   "cell_type": "code",
   "execution_count": 29,
   "id": "06ecdbc7",
   "metadata": {},
   "outputs": [
    {
     "name": "stdout",
     "output_type": "stream",
     "text": [
      "\u001b[34mINFO    \u001b[0m Training for \u001b[1;36m50\u001b[0m epochs.                                                                                   \n"
     ]
    },
    {
     "name": "stderr",
     "output_type": "stream",
     "text": [
      "GPU available: True (cuda), used: True\n",
      "TPU available: False, using: 0 TPU cores\n",
      "IPU available: False, using: 0 IPUs\n",
      "HPU available: False, using: 0 HPUs\n",
      "You are using a CUDA device ('NVIDIA A100-SXM4-80GB') that has Tensor Cores. To properly utilize them, you should set `torch.set_float32_matmul_precision('medium' | 'high')` which will trade-off precision for performance. For more details, read https://pytorch.org/docs/stable/generated/torch.set_float32_matmul_precision.html#torch.set_float32_matmul_precision\n",
      "LOCAL_RANK: 0 - CUDA_VISIBLE_DEVICES: [0,1,2,3,4,5,6,7]\n"
     ]
    },
    {
     "name": "stdout",
     "output_type": "stream",
     "text": [
      "Epoch 50/50: 100%|█████████████████████████████████████████████████████████████████████████████████████████████████████████| 50/50 [01:01<00:00,  1.22s/it, loss=874, v_num=1]"
     ]
    },
    {
     "name": "stderr",
     "output_type": "stream",
     "text": [
      "`Trainer.fit` stopped: `max_epochs=50` reached.\n"
     ]
    },
    {
     "name": "stdout",
     "output_type": "stream",
     "text": [
      "Epoch 50/50: 100%|█████████████████████████████████████████████████████████████████████████████████████████████████████████| 50/50 [01:01<00:00,  1.23s/it, loss=874, v_num=1]\n"
     ]
    }
   ],
   "source": [
    "surgery_model.train(max_epochs=surgery_epochs, use_gpu =True, **early_stopping_kwargs_surgery)"
   ]
  },
  {
   "cell_type": "code",
   "execution_count": 30,
   "id": "18bddf20",
   "metadata": {},
   "outputs": [],
   "source": [
    "adata_query_latent = sc.AnnData(surgery_model.get_latent_representation(adata_query))\n",
    "adata_query_latent.obs = adata_query.obs.loc[adata_query.obs.index, :]\n"
   ]
  },
  {
   "cell_type": "code",
   "execution_count": 31,
   "id": "1ce35e52",
   "metadata": {},
   "outputs": [],
   "source": [
    "path_celltypes = os.path.join(ref_path, \"HLCA_celltypes_ordered.csv\")\n",
    "url = \"https://github.com/LungCellAtlas/HLCA_reproducibility/raw/main/supporting_files/celltype_structure_and_colors/manual_anns_and_leveled_anns_ordered.csv\" # \"https://github.com/LungCellAtlas/mapping_data_to_the_HLCA/raw/main/supporting_files/HLCA_celltypes_ordered.csv\"\n",
    "# gdown.download(url, path_celltypes, quiet=False)"
   ]
  },
  {
   "cell_type": "code",
   "execution_count": 32,
   "id": "b07c7cae",
   "metadata": {},
   "outputs": [],
   "source": [
    "cts_ordered = pd.read_csv(path_celltypes, index_col=0).rename(\n",
    "    columns={f\"Level_{lev}\": f\"labtransf_ann_level_{lev}\" for lev in range(1, 6)}\n",
    ")"
   ]
  },
  {
   "cell_type": "code",
   "execution_count": 33,
   "id": "33edf8e9",
   "metadata": {},
   "outputs": [],
   "source": [
    "adata_ref.obs = adata_ref.obs.join(cts_ordered, on=\"ann_finest_level\")\n"
   ]
  },
  {
   "cell_type": "code",
   "execution_count": 34,
   "id": "43356f11",
   "metadata": {},
   "outputs": [
    {
     "name": "stdout",
     "output_type": "stream",
     "text": [
      "Weighted KNN with n_neighbors = 50 ... "
     ]
    }
   ],
   "source": [
    "knn_transformer = sca.utils.knn.weighted_knn_trainer(\n",
    "    train_adata=adata_ref,\n",
    "    train_adata_emb=\"X\",  # location of our joint embedding\n",
    "    n_neighbors=50,\n",
    ")"
   ]
  },
  {
   "cell_type": "code",
   "execution_count": 35,
   "id": "763433ee",
   "metadata": {},
   "outputs": [
    {
     "name": "stdout",
     "output_type": "stream",
     "text": [
      "finished!\n"
     ]
    }
   ],
   "source": [
    "labels, uncert = sca.utils.knn.weighted_knn_transfer(\n",
    "    query_adata=adata_query_latent,\n",
    "    query_adata_emb=\"X\",  # location of our embedding, query_adata.X in this case\n",
    "    label_keys=\"ann_finest_level\",  # (start of) obs column name(s) for which to transfer labels\n",
    "    knn_model=knn_transformer,\n",
    "    ref_adata_obs=adata_ref.obs,\n",
    ")"
   ]
  },
  {
   "cell_type": "code",
   "execution_count": 36,
   "id": "79515cb3",
   "metadata": {},
   "outputs": [
    {
     "data": {
      "text/html": [
       "<div>\n",
       "<style scoped>\n",
       "    .dataframe tbody tr th:only-of-type {\n",
       "        vertical-align: middle;\n",
       "    }\n",
       "\n",
       "    .dataframe tbody tr th {\n",
       "        vertical-align: top;\n",
       "    }\n",
       "\n",
       "    .dataframe thead th {\n",
       "        text-align: right;\n",
       "    }\n",
       "</style>\n",
       "<table border=\"1\" class=\"dataframe\">\n",
       "  <thead>\n",
       "    <tr style=\"text-align: right;\">\n",
       "      <th></th>\n",
       "      <th>labtransf_ann_level_1</th>\n",
       "      <th>labtransf_ann_level_2</th>\n",
       "      <th>labtransf_ann_level_3</th>\n",
       "      <th>labtransf_ann_level_4</th>\n",
       "      <th>labtransf_ann_level_5</th>\n",
       "      <th>ordering</th>\n",
       "      <th>colors</th>\n",
       "    </tr>\n",
       "  </thead>\n",
       "  <tbody>\n",
       "    <tr>\n",
       "      <th>Basal resting</th>\n",
       "      <td>Epithelial</td>\n",
       "      <td>Airway epithelium</td>\n",
       "      <td>Basal</td>\n",
       "      <td>Basal resting</td>\n",
       "      <td>4_Basal resting</td>\n",
       "      <td>3</td>\n",
       "      <td>#FFFF00</td>\n",
       "    </tr>\n",
       "    <tr>\n",
       "      <th>Suprabasal</th>\n",
       "      <td>Epithelial</td>\n",
       "      <td>Airway epithelium</td>\n",
       "      <td>Basal</td>\n",
       "      <td>Suprabasal</td>\n",
       "      <td>4_Suprabasal</td>\n",
       "      <td>4</td>\n",
       "      <td>#1CE6FF</td>\n",
       "    </tr>\n",
       "    <tr>\n",
       "      <th>Hillock-like</th>\n",
       "      <td>Epithelial</td>\n",
       "      <td>Airway epithelium</td>\n",
       "      <td>Basal</td>\n",
       "      <td>Hillock-like</td>\n",
       "      <td>4_Hillock-like</td>\n",
       "      <td>11</td>\n",
       "      <td>#FF34FF</td>\n",
       "    </tr>\n",
       "    <tr>\n",
       "      <th>Deuterosomal</th>\n",
       "      <td>Epithelial</td>\n",
       "      <td>Airway epithelium</td>\n",
       "      <td>Multiciliated lineage</td>\n",
       "      <td>Deuterosomal</td>\n",
       "      <td>4_Deuterosomal</td>\n",
       "      <td>13</td>\n",
       "      <td>#FF4A46</td>\n",
       "    </tr>\n",
       "    <tr>\n",
       "      <th>Multiciliated (nasal)</th>\n",
       "      <td>Epithelial</td>\n",
       "      <td>Airway epithelium</td>\n",
       "      <td>Multiciliated lineage</td>\n",
       "      <td>Multiciliated</td>\n",
       "      <td>Multiciliated (nasal)</td>\n",
       "      <td>15</td>\n",
       "      <td>#008941</td>\n",
       "    </tr>\n",
       "    <tr>\n",
       "      <th>...</th>\n",
       "      <td>...</td>\n",
       "      <td>...</td>\n",
       "      <td>...</td>\n",
       "      <td>...</td>\n",
       "      <td>...</td>\n",
       "      <td>...</td>\n",
       "      <td>...</td>\n",
       "    </tr>\n",
       "    <tr>\n",
       "      <th>Monocyte-derived Mph</th>\n",
       "      <td>Immune</td>\n",
       "      <td>Myeloid</td>\n",
       "      <td>Macrophages</td>\n",
       "      <td>Interstitial macrophages</td>\n",
       "      <td>Monocyte-derived Mph</td>\n",
       "      <td>151</td>\n",
       "      <td>#FAD09F</td>\n",
       "    </tr>\n",
       "    <tr>\n",
       "      <th>Interstitial Mph perivascular</th>\n",
       "      <td>Immune</td>\n",
       "      <td>Myeloid</td>\n",
       "      <td>Macrophages</td>\n",
       "      <td>Interstitial macrophages</td>\n",
       "      <td>Interstitial Mph perivascular</td>\n",
       "      <td>155</td>\n",
       "      <td>#FF8A9A</td>\n",
       "    </tr>\n",
       "    <tr>\n",
       "      <th>Classical monocytes</th>\n",
       "      <td>Immune</td>\n",
       "      <td>Myeloid</td>\n",
       "      <td>Monocytes</td>\n",
       "      <td>Classical monocytes</td>\n",
       "      <td>4_Classical monocytes</td>\n",
       "      <td>160</td>\n",
       "      <td>#D157A0</td>\n",
       "    </tr>\n",
       "    <tr>\n",
       "      <th>Non-classical monocytes</th>\n",
       "      <td>Immune</td>\n",
       "      <td>Myeloid</td>\n",
       "      <td>Monocytes</td>\n",
       "      <td>Non-classical monocytes</td>\n",
       "      <td>4_Non-classical monocytes</td>\n",
       "      <td>163</td>\n",
       "      <td>#BEC459</td>\n",
       "    </tr>\n",
       "    <tr>\n",
       "      <th>Mast cells</th>\n",
       "      <td>Immune</td>\n",
       "      <td>Myeloid</td>\n",
       "      <td>Mast cells</td>\n",
       "      <td>3_Mast cells</td>\n",
       "      <td>3_Mast cells</td>\n",
       "      <td>165</td>\n",
       "      <td>#456648</td>\n",
       "    </tr>\n",
       "  </tbody>\n",
       "</table>\n",
       "<p>61 rows × 7 columns</p>\n",
       "</div>"
      ],
      "text/plain": [
       "                              labtransf_ann_level_1 labtransf_ann_level_2  \\\n",
       "Basal resting                            Epithelial     Airway epithelium   \n",
       "Suprabasal                               Epithelial     Airway epithelium   \n",
       "Hillock-like                             Epithelial     Airway epithelium   \n",
       "Deuterosomal                             Epithelial     Airway epithelium   \n",
       "Multiciliated (nasal)                    Epithelial     Airway epithelium   \n",
       "...                                             ...                   ...   \n",
       "Monocyte-derived Mph                         Immune               Myeloid   \n",
       "Interstitial Mph perivascular                Immune               Myeloid   \n",
       "Classical monocytes                          Immune               Myeloid   \n",
       "Non-classical monocytes                      Immune               Myeloid   \n",
       "Mast cells                                   Immune               Myeloid   \n",
       "\n",
       "                               labtransf_ann_level_3  \\\n",
       "Basal resting                                  Basal   \n",
       "Suprabasal                                     Basal   \n",
       "Hillock-like                                   Basal   \n",
       "Deuterosomal                   Multiciliated lineage   \n",
       "Multiciliated (nasal)          Multiciliated lineage   \n",
       "...                                              ...   \n",
       "Monocyte-derived Mph                     Macrophages   \n",
       "Interstitial Mph perivascular            Macrophages   \n",
       "Classical monocytes                        Monocytes   \n",
       "Non-classical monocytes                    Monocytes   \n",
       "Mast cells                                Mast cells   \n",
       "\n",
       "                                  labtransf_ann_level_4  \\\n",
       "Basal resting                             Basal resting   \n",
       "Suprabasal                                   Suprabasal   \n",
       "Hillock-like                               Hillock-like   \n",
       "Deuterosomal                               Deuterosomal   \n",
       "Multiciliated (nasal)                     Multiciliated   \n",
       "...                                                 ...   \n",
       "Monocyte-derived Mph           Interstitial macrophages   \n",
       "Interstitial Mph perivascular  Interstitial macrophages   \n",
       "Classical monocytes                 Classical monocytes   \n",
       "Non-classical monocytes         Non-classical monocytes   \n",
       "Mast cells                                 3_Mast cells   \n",
       "\n",
       "                                       labtransf_ann_level_5  ordering  \\\n",
       "Basal resting                                4_Basal resting         3   \n",
       "Suprabasal                                      4_Suprabasal         4   \n",
       "Hillock-like                                  4_Hillock-like        11   \n",
       "Deuterosomal                                  4_Deuterosomal        13   \n",
       "Multiciliated (nasal)                  Multiciliated (nasal)        15   \n",
       "...                                                      ...       ...   \n",
       "Monocyte-derived Mph                    Monocyte-derived Mph       151   \n",
       "Interstitial Mph perivascular  Interstitial Mph perivascular       155   \n",
       "Classical monocytes                    4_Classical monocytes       160   \n",
       "Non-classical monocytes            4_Non-classical monocytes       163   \n",
       "Mast cells                                      3_Mast cells       165   \n",
       "\n",
       "                                colors  \n",
       "Basal resting                  #FFFF00  \n",
       "Suprabasal                     #1CE6FF  \n",
       "Hillock-like                   #FF34FF  \n",
       "Deuterosomal                   #FF4A46  \n",
       "Multiciliated (nasal)          #008941  \n",
       "...                                ...  \n",
       "Monocyte-derived Mph           #FAD09F  \n",
       "Interstitial Mph perivascular  #FF8A9A  \n",
       "Classical monocytes            #D157A0  \n",
       "Non-classical monocytes        #BEC459  \n",
       "Mast cells                     #456648  \n",
       "\n",
       "[61 rows x 7 columns]"
      ]
     },
     "execution_count": 36,
     "metadata": {},
     "output_type": "execute_result"
    }
   ],
   "source": [
    "cts_ordered"
   ]
  },
  {
   "cell_type": "code",
   "execution_count": 37,
   "id": "f88c1f10",
   "metadata": {},
   "outputs": [
    {
     "data": {
      "text/plain": [
       "AnnData object with n_obs × n_vars = 584944 × 30\n",
       "    obs: 'suspension_type', 'donor_id', 'is_primary_data', 'assay_ontology_term_id', 'cell_type_ontology_term_id', 'development_stage_ontology_term_id', 'disease_ontology_term_id', 'self_reported_ethnicity_ontology_term_id', 'tissue_ontology_term_id', 'organism_ontology_term_id', 'sex_ontology_term_id', \"3'_or_5'\", 'BMI', 'age_or_mean_of_age_range', 'age_range', 'anatomical_region_ccf_score', 'ann_coarse_for_GWAS_and_modeling', 'ann_finest_level', 'ann_level_1', 'ann_level_2', 'ann_level_3', 'ann_level_4', 'ann_level_5', 'cause_of_death', 'core_or_extension', 'dataset', 'fresh_or_frozen', 'log10_total_counts', 'lung_condition', 'mixed_ancestry', 'original_ann_level_1', 'original_ann_level_2', 'original_ann_level_3', 'original_ann_level_4', 'original_ann_level_5', 'original_ann_nonharmonized', 'reannotation_type', 'sample', 'scanvi_label', 'sequencing_platform', 'smoking_status', 'study', 'subject_type', 'tissue_coarse_unharmonized', 'tissue_detailed_unharmonized', 'tissue_dissociation_protocol', 'tissue_level_2', 'tissue_level_3', 'tissue_sampling_method', 'total_counts', 'labtransf_ann_level_1', 'labtransf_ann_level_2', 'labtransf_ann_level_3', 'labtransf_ann_level_4', 'labtransf_ann_level_5', 'ordering', 'colors'\n",
       "    uns: 'schema_version'\n",
       "    obsm: 'X_umap'\n",
       "    obsp: 'connectivities', 'distances'"
      ]
     },
     "execution_count": 37,
     "metadata": {},
     "output_type": "execute_result"
    }
   ],
   "source": [
    "adata_ref"
   ]
  },
  {
   "cell_type": "code",
   "execution_count": 2,
   "id": "f3a3759c",
   "metadata": {
    "scrolled": true
   },
   "outputs": [
    {
     "ename": "NameError",
     "evalue": "name 'labels' is not defined",
     "output_type": "error",
     "traceback": [
      "\u001b[0;31m---------------------------------------------------------------------------\u001b[0m",
      "\u001b[0;31mNameError\u001b[0m                                 Traceback (most recent call last)",
      "Cell \u001b[0;32mIn[2], line 1\u001b[0m\n\u001b[0;32m----> 1\u001b[0m \u001b[43mlabels\u001b[49m\n",
      "\u001b[0;31mNameError\u001b[0m: name 'labels' is not defined"
     ]
    }
   ],
   "source": [
    "labels"
   ]
  },
  {
   "cell_type": "code",
   "execution_count": 39,
   "id": "2f0c77ec",
   "metadata": {},
   "outputs": [
    {
     "data": {
      "text/plain": [
       "Alveolar fibroblasts             2833\n",
       "AT2                              1679\n",
       "CD4 T cells                      1100\n",
       "Monocyte-derived Mph              904\n",
       "EC general capillary              897\n",
       "CD8 T cells                       698\n",
       "Classical monocytes               673\n",
       "Alveolar macrophages              632\n",
       "Plasma cells                      548\n",
       "Pericytes                         536\n",
       "Peribronchial fibroblasts         465\n",
       "Interstitial Mph perivascular     450\n",
       "EC aerocyte capillary             413\n",
       "AT1                               357\n",
       "NK cells                          312\n",
       "Adventitial fibroblasts           299\n",
       "Smooth muscle                     270\n",
       "EC arterial                       239\n",
       "Multiciliated (non-nasal)         237\n",
       "Myofibroblasts                    211\n",
       "Mast cells                        199\n",
       "EC venous pulmonary               190\n",
       "Non-classical monocytes           175\n",
       "B cells                           150\n",
       "Basal resting                     148\n",
       "pre-TB secretory                  147\n",
       "Goblet (nasal)                    124\n",
       "Lymphatic EC differentiating      118\n",
       "Club (nasal)                       47\n",
       "Plasmacytoid DCs                   42\n",
       "EC venous systemic                 42\n",
       "Suprabasal                         36\n",
       "Lymphatic EC mature                26\n",
       "AT2 proliferating                  26\n",
       "AT0                                24\n",
       "Club (non-nasal)                   18\n",
       "Goblet (subsegmental)              16\n",
       "T cells proliferating              14\n",
       "Migratory DCs                      13\n",
       "DC2                                12\n",
       "SM activated stress response       11\n",
       "Smooth muscle FAM83D+               7\n",
       "Alveolar Mph proliferating          5\n",
       "Hillock-like                        3\n",
       "Deuterosomal                        2\n",
       "Ionocyte                            1\n",
       "Goblet (bronchial)                  1\n",
       "SMG duct                            1\n",
       "Mesothelium                         1\n",
       "Name: ann_finest_level, dtype: int64"
      ]
     },
     "execution_count": 39,
     "metadata": {},
     "output_type": "execute_result"
    }
   ],
   "source": [
    "labels[\"ann_finest_level\"].value_counts()"
   ]
  },
  {
   "cell_type": "code",
   "execution_count": 40,
   "id": "bd701826",
   "metadata": {},
   "outputs": [
    {
     "data": {
      "text/html": [
       "<div>\n",
       "<style scoped>\n",
       "    .dataframe tbody tr th:only-of-type {\n",
       "        vertical-align: middle;\n",
       "    }\n",
       "\n",
       "    .dataframe tbody tr th {\n",
       "        vertical-align: top;\n",
       "    }\n",
       "\n",
       "    .dataframe thead th {\n",
       "        text-align: right;\n",
       "    }\n",
       "</style>\n",
       "<table border=\"1\" class=\"dataframe\">\n",
       "  <thead>\n",
       "    <tr style=\"text-align: right;\">\n",
       "      <th></th>\n",
       "      <th>ann_finest_level</th>\n",
       "    </tr>\n",
       "  </thead>\n",
       "  <tbody>\n",
       "    <tr>\n",
       "      <th>AAACAAGCAGCAATTGAAGTAGAG-1-OSU20126_Healthy_Old</th>\n",
       "      <td>Alveolar fibroblasts</td>\n",
       "    </tr>\n",
       "    <tr>\n",
       "      <th>AAACCAATCATGCGTCAAGTAGAG-1-OSU20126_Healthy_Old</th>\n",
       "      <td>Alveolar fibroblasts</td>\n",
       "    </tr>\n",
       "    <tr>\n",
       "      <th>AAACCAGGTAAAGCATAAGTAGAG-1-OSU20126_Healthy_Old</th>\n",
       "      <td>EC general capillary</td>\n",
       "    </tr>\n",
       "    <tr>\n",
       "      <th>AAACCAGGTATTACCAAAGTAGAG-1-OSU20126_Healthy_Old</th>\n",
       "      <td>EC general capillary</td>\n",
       "    </tr>\n",
       "    <tr>\n",
       "      <th>AAACCAGGTCAATTCAAAGTAGAG-1-OSU20126_Healthy_Old</th>\n",
       "      <td>Alveolar fibroblasts</td>\n",
       "    </tr>\n",
       "    <tr>\n",
       "      <th>...</th>\n",
       "      <td>...</td>\n",
       "    </tr>\n",
       "    <tr>\n",
       "      <th>TTTGGACGTTTGACTAATCATGTG-1-OSU10172_IPF_LL</th>\n",
       "      <td>Alveolar fibroblasts</td>\n",
       "    </tr>\n",
       "    <tr>\n",
       "      <th>TTTGGCGGTGTTTGCGATCATGTG-1-OSU10172_IPF_LL</th>\n",
       "      <td>Adventitial fibroblasts</td>\n",
       "    </tr>\n",
       "    <tr>\n",
       "      <th>TTTGGCGGTTTGCTCCATCATGTG-1-OSU10172_IPF_LL</th>\n",
       "      <td>Alveolar fibroblasts</td>\n",
       "    </tr>\n",
       "    <tr>\n",
       "      <th>TTTGTGAGTACAAAGTATCATGTG-1-OSU10172_IPF_LL</th>\n",
       "      <td>Non-classical monocytes</td>\n",
       "    </tr>\n",
       "    <tr>\n",
       "      <th>TTTGTGAGTACTGCCAATCATGTG-1-OSU10172_IPF_LL</th>\n",
       "      <td>Myofibroblasts</td>\n",
       "    </tr>\n",
       "  </tbody>\n",
       "</table>\n",
       "<p>15352 rows × 1 columns</p>\n",
       "</div>"
      ],
      "text/plain": [
       "                                                        ann_finest_level\n",
       "AAACAAGCAGCAATTGAAGTAGAG-1-OSU20126_Healthy_Old     Alveolar fibroblasts\n",
       "AAACCAATCATGCGTCAAGTAGAG-1-OSU20126_Healthy_Old     Alveolar fibroblasts\n",
       "AAACCAGGTAAAGCATAAGTAGAG-1-OSU20126_Healthy_Old     EC general capillary\n",
       "AAACCAGGTATTACCAAAGTAGAG-1-OSU20126_Healthy_Old     EC general capillary\n",
       "AAACCAGGTCAATTCAAAGTAGAG-1-OSU20126_Healthy_Old     Alveolar fibroblasts\n",
       "...                                                                  ...\n",
       "TTTGGACGTTTGACTAATCATGTG-1-OSU10172_IPF_LL          Alveolar fibroblasts\n",
       "TTTGGCGGTGTTTGCGATCATGTG-1-OSU10172_IPF_LL       Adventitial fibroblasts\n",
       "TTTGGCGGTTTGCTCCATCATGTG-1-OSU10172_IPF_LL          Alveolar fibroblasts\n",
       "TTTGTGAGTACAAAGTATCATGTG-1-OSU10172_IPF_LL       Non-classical monocytes\n",
       "TTTGTGAGTACTGCCAATCATGTG-1-OSU10172_IPF_LL                Myofibroblasts\n",
       "\n",
       "[15352 rows x 1 columns]"
      ]
     },
     "execution_count": 40,
     "metadata": {},
     "output_type": "execute_result"
    }
   ],
   "source": [
    "labels"
   ]
  },
  {
   "cell_type": "code",
   "execution_count": 41,
   "id": "f33548b6",
   "metadata": {},
   "outputs": [],
   "source": [
    "labels.to_csv(\"labels.csv\")"
   ]
  },
  {
   "cell_type": "code",
   "execution_count": null,
   "id": "32af0fbe",
   "metadata": {},
   "outputs": [],
   "source": []
  },
  {
   "cell_type": "code",
   "execution_count": null,
   "id": "f6236054",
   "metadata": {},
   "outputs": [],
   "source": []
  },
  {
   "cell_type": "code",
   "execution_count": null,
   "id": "6e18561d",
   "metadata": {},
   "outputs": [],
   "source": []
  },
  {
   "cell_type": "code",
   "execution_count": null,
   "id": "35f06149",
   "metadata": {},
   "outputs": [],
   "source": []
  },
  {
   "cell_type": "code",
   "execution_count": 50,
   "id": "5bb06dc3",
   "metadata": {},
   "outputs": [
    {
     "data": {
      "text/plain": [
       "AnnData object with n_obs × n_vars = 49298 × 1758\n",
       "    obs: 'orig.ident', 'nCount_RNA', 'nFeature_RNA', 'sample', 'percent.ribo', 'percent.mito', 'test_res.0.1', 'seurat_clusters', 'ann_finest_level'\n",
       "    var: 'gene_names'"
      ]
     },
     "execution_count": 50,
     "metadata": {},
     "output_type": "execute_result"
    }
   ],
   "source": [
    "adata_query_unprep"
   ]
  },
  {
   "cell_type": "code",
   "execution_count": 48,
   "id": "3164d2f4",
   "metadata": {},
   "outputs": [],
   "source": [
    "adata_query_unprep.obs['ann_finest_level']=labels['ann_finest_level']"
   ]
  },
  {
   "cell_type": "code",
   "execution_count": 49,
   "id": "838560b0",
   "metadata": {},
   "outputs": [],
   "source": [
    "adata_query_unprep.write(\"/bmbl_data/chenghao/sencell/fixRNA_annotated.h5ad\")"
   ]
  },
  {
   "cell_type": "code",
   "execution_count": null,
   "id": "a3a9ebb8",
   "metadata": {},
   "outputs": [],
   "source": [
    "import random\n",
    "def umapPlot(embedding,cell_index_ls,clusters=None,reduce=False,labels=None,colored_celltypes=None):\n",
    "    # if tensor: embedding should be .cpu().detach()\n",
    "    # clusters: Nxt\n",
    "    # t里面存的是行的index\n",
    "    if reduce:\n",
    "        reducer = umap.UMAP()\n",
    "        embedding = reducer.fit_transform(embedding)\n",
    "    \n",
    "    plt.figure(figsize=(6,6),dpi=300)\n",
    "    cmap1 = matplotlib.cm.get_cmap('tab20')        \n",
    "    cmap2 = matplotlib.cm.get_cmap('Set3')  \n",
    "    cmap3 = matplotlib.cm.get_cmap('Set1') \n",
    "    cmap4 = matplotlib.cm.get_cmap('Set2') \n",
    "    color_ls=cmap1.colors+cmap2.colors+cmap3.colors+cmap4.colors\n",
    "    \n",
    "#     cmap = plt.cm.get_cmap('tab20')  # or any other colormap\n",
    "\n",
    "#     # Generate 50 colors from the colormap\n",
    "#     color_ls = cmap(np.linspace(0, 1, len(clusters)))\n",
    "    \n",
    "    color_count=0\n",
    "    h_ls=[]\n",
    "    \n",
    "    if clusters is None:\n",
    "        plt.scatter(embedding[:,0],embedding[:,1],alpha=0.5,s=5)\n",
    "    else:\n",
    "        for i,(cluster,label) in enumerate(zip(clusters,labels)):\n",
    "            plt.scatter(embedding[cluster,0],embedding[cluster,1],alpha=0.4,s=1,color=color_ls[color_count],zorder=0)\n",
    "            color_count+=1\n",
    "                    \n",
    "    \n",
    "    plt.xticks([])\n",
    "    plt.yticks([])\n",
    "\n",
    "    \n",
    "umapPlot(adata_query_unprep.X.todense(),row_numbers,clusters=cluster_cell_ls,labels=celltype_names,colored_celltypes=colored_celltypes)\n"
   ]
  },
  {
   "cell_type": "code",
   "execution_count": 50,
   "id": "5dc22f6e",
   "metadata": {},
   "outputs": [
    {
     "data": {
      "text/plain": [
       "(49327, 1758)"
      ]
     },
     "execution_count": 50,
     "metadata": {},
     "output_type": "execute_result"
    }
   ],
   "source": [
    "adata_query_unprep.X.todense().shape"
   ]
  },
  {
   "cell_type": "code",
   "execution_count": 53,
   "id": "af6f9074",
   "metadata": {},
   "outputs": [],
   "source": [
    "import umap\n",
    "\n",
    "cell_matrix=np.asarray(adata_query_unprep.X.todense())\n",
    "reducer = umap.UMAP()\n",
    "embedding = reducer.fit_transform(cell_matrix)"
   ]
  },
  {
   "cell_type": "code",
   "execution_count": 56,
   "id": "764d34ab",
   "metadata": {},
   "outputs": [
    {
     "ename": "ModuleNotFoundError",
     "evalue": "No module named 'utils'",
     "output_type": "error",
     "traceback": [
      "\u001b[0;31m---------------------------------------------------------------------------\u001b[0m",
      "\u001b[0;31mModuleNotFoundError\u001b[0m                       Traceback (most recent call last)",
      "Cell \u001b[0;32mIn[56], line 1\u001b[0m\n\u001b[0;32m----> 1\u001b[0m \u001b[38;5;28;01mimport\u001b[39;00m \u001b[38;5;21;01mutils\u001b[39;00m\n\u001b[1;32m      3\u001b[0m utils\u001b[38;5;241m.\u001b[39mload_data_fixRNA()\n",
      "\u001b[0;31mModuleNotFoundError\u001b[0m: No module named 'utils'"
     ]
    }
   ],
   "source": []
  },
  {
   "cell_type": "code",
   "execution_count": null,
   "id": "26debb80",
   "metadata": {},
   "outputs": [],
   "source": []
  },
  {
   "cell_type": "code",
   "execution_count": null,
   "id": "fbb81148",
   "metadata": {},
   "outputs": [],
   "source": []
  },
  {
   "cell_type": "code",
   "execution_count": null,
   "id": "53d5d858",
   "metadata": {},
   "outputs": [],
   "source": []
  },
  {
   "cell_type": "code",
   "execution_count": null,
   "id": "da17c2a6",
   "metadata": {},
   "outputs": [],
   "source": []
  },
  {
   "cell_type": "code",
   "execution_count": null,
   "id": "c8134fe6",
   "metadata": {},
   "outputs": [],
   "source": []
  },
  {
   "cell_type": "code",
   "execution_count": 36,
   "id": "12b6b6bf",
   "metadata": {},
   "outputs": [],
   "source": [
    "adata_query_unprep = sc.read_h5ad('/bmbl_data/chenghao/combined_scRNAseq_20230928.h5ad')"
   ]
  },
  {
   "cell_type": "code",
   "execution_count": 39,
   "id": "27683876",
   "metadata": {},
   "outputs": [],
   "source": [
    "adata_query_unprep.obs['ann_finest_level']=labels['ann_finest_level']"
   ]
  },
  {
   "cell_type": "code",
   "execution_count": 41,
   "id": "a211d0d4",
   "metadata": {},
   "outputs": [],
   "source": [
    "adata_query_unprep.write(\"/bmbl_data/chenghao/sencell/data/adenoma_annotated.h5ad\")"
   ]
  },
  {
   "cell_type": "code",
   "execution_count": null,
   "id": "f9fb48d9",
   "metadata": {},
   "outputs": [],
   "source": []
  },
  {
   "cell_type": "code",
   "execution_count": null,
   "id": "d17016d7",
   "metadata": {},
   "outputs": [],
   "source": []
  },
  {
   "cell_type": "code",
   "execution_count": 37,
   "id": "a54e848f",
   "metadata": {},
   "outputs": [
    {
     "data": {
      "text/plain": [
       "AnnData object with n_obs × n_vars = 66218 × 2000\n",
       "    obs: 'orig.ident', 'nCount_RNA', 'nFeature_RNA', 'percent.ribo', 'percent.mito', 'feature.mad.higher', 'count.mad.lower', 'count.mad.higher', 'mito.mad.higher', 'ribo.mad.higher', 'integrated_snn_res.0.1', 'seurat_clusters', 'disease', 'location', 'celltype_seurat_transfer_ipf', 'dataset', '_scvi_batch', 'scanvi_label', '_scvi_labels'\n",
       "    var: 'gene_names'\n",
       "    uns: '_scvi_uuid', '_scvi_manager_uuid'"
      ]
     },
     "execution_count": 37,
     "metadata": {},
     "output_type": "execute_result"
    }
   ],
   "source": [
    "adata_query"
   ]
  },
  {
   "cell_type": "code",
   "execution_count": 39,
   "id": "54218174",
   "metadata": {},
   "outputs": [],
   "source": [
    "uncertainty_threshold = 0.2\n",
    "labels.rename(\n",
    "    columns={\n",
    "        f\"labtransf_ann_level_{lev}\": f\"ann_level_{lev}_transferred_label_unfiltered\"\n",
    "        for lev in range(1, 6)\n",
    "    },\n",
    "    inplace=True,\n",
    ")\n",
    "uncert.rename(\n",
    "    columns={\n",
    "        f\"labtransf_ann_level_{lev}\": f\"ann_level_{lev}_transfer_uncert\"\n",
    "        for lev in range(1, 6)\n",
    "    },\n",
    "    inplace=True,\n",
    ")"
   ]
  },
  {
   "cell_type": "code",
   "execution_count": 42,
   "id": "e9c36655",
   "metadata": {},
   "outputs": [],
   "source": [
    "adata_query.obs = adata_query.obs.join(labels)\n",
    "adata_query.obs = adata_query.obs.join(uncert)"
   ]
  },
  {
   "cell_type": "code",
   "execution_count": 43,
   "id": "3b3875ca",
   "metadata": {},
   "outputs": [],
   "source": [
    "for lev in range(1, 6):\n",
    "    adata_query.obs[f\"ann_level_{lev}_transferred_label\"] = adata_query.obs[\n",
    "        f\"ann_level_{lev}_transferred_label_unfiltered\"\n",
    "    ].mask(\n",
    "        adata_query.obs[f\"ann_level_{lev}_transfer_uncert\"] > uncertainty_threshold,\n",
    "        \"Unknown\",\n",
    "    )"
   ]
  },
  {
   "cell_type": "code",
   "execution_count": 44,
   "id": "9fcea32d",
   "metadata": {},
   "outputs": [
    {
     "name": "stdout",
     "output_type": "stream",
     "text": [
      "Percentage of unknown per level, with uncertainty_threshold=0.2:\n",
      "Level 1: 1.54%\n",
      "Level 2: 3.17%\n",
      "Level 3: 12.74%\n",
      "Level 4: 27.61%\n",
      "Level 5: 31.26%\n"
     ]
    }
   ],
   "source": [
    "print(\n",
    "    f\"Percentage of unknown per level, with uncertainty_threshold={uncertainty_threshold}:\"\n",
    ")\n",
    "for level in range(1, 6):\n",
    "    print(\n",
    "        f\"Level {level}: {np.round(sum(adata_query.obs[f'ann_level_{level}_transferred_label'] =='Unknown')/adata_query.n_obs*100,2)}%\"\n",
    "    )"
   ]
  },
  {
   "cell_type": "code",
   "execution_count": 48,
   "id": "c504b5ea",
   "metadata": {},
   "outputs": [],
   "source": [
    "adata_query.obs['ann_level_3_transferred_label'].to_csv(\"labels.csv\")"
   ]
  },
  {
   "cell_type": "code",
   "execution_count": 46,
   "id": "79dd7fbc",
   "metadata": {},
   "outputs": [
    {
     "data": {
      "text/plain": [
       "AnnData object with n_obs × n_vars = 584944 × 30\n",
       "    obs: 'suspension_type', 'donor_id', 'is_primary_data', 'assay_ontology_term_id', 'cell_type_ontology_term_id', 'development_stage_ontology_term_id', 'disease_ontology_term_id', 'self_reported_ethnicity_ontology_term_id', 'tissue_ontology_term_id', 'organism_ontology_term_id', 'sex_ontology_term_id', \"3'_or_5'\", 'BMI', 'age_or_mean_of_age_range', 'age_range', 'anatomical_region_ccf_score', 'ann_coarse_for_GWAS_and_modeling', 'ann_finest_level', 'ann_level_1', 'ann_level_2', 'ann_level_3', 'ann_level_4', 'ann_level_5', 'cause_of_death', 'core_or_extension', 'dataset', 'fresh_or_frozen', 'log10_total_counts', 'lung_condition', 'mixed_ancestry', 'original_ann_level_1', 'original_ann_level_2', 'original_ann_level_3', 'original_ann_level_4', 'original_ann_level_5', 'original_ann_nonharmonized', 'reannotation_type', 'sample', 'scanvi_label', 'sequencing_platform', 'smoking_status', 'study', 'subject_type', 'tissue_coarse_unharmonized', 'tissue_detailed_unharmonized', 'tissue_dissociation_protocol', 'tissue_level_2', 'tissue_level_3', 'tissue_sampling_method', 'total_counts', 'labtransf_ann_level_1', 'labtransf_ann_level_2', 'labtransf_ann_level_3', 'labtransf_ann_level_4', 'labtransf_ann_level_5', 'ordering', 'colors'\n",
       "    uns: 'schema_version'\n",
       "    obsm: 'X_umap'\n",
       "    obsp: 'connectivities', 'distances'"
      ]
     },
     "execution_count": 46,
     "metadata": {},
     "output_type": "execute_result"
    }
   ],
   "source": [
    "adata_ref"
   ]
  },
  {
   "cell_type": "code",
   "execution_count": null,
   "id": "0707cb18",
   "metadata": {},
   "outputs": [],
   "source": []
  },
  {
   "cell_type": "code",
   "execution_count": null,
   "id": "c2ec221d",
   "metadata": {},
   "outputs": [],
   "source": []
  },
  {
   "cell_type": "code",
   "execution_count": null,
   "id": "78816f62",
   "metadata": {},
   "outputs": [],
   "source": []
  },
  {
   "cell_type": "code",
   "execution_count": null,
   "id": "ef11de4b",
   "metadata": {},
   "outputs": [],
   "source": []
  },
  {
   "cell_type": "code",
   "execution_count": null,
   "id": "beed0269",
   "metadata": {},
   "outputs": [],
   "source": []
  },
  {
   "cell_type": "code",
   "execution_count": null,
   "id": "b1881634",
   "metadata": {},
   "outputs": [],
   "source": []
  },
  {
   "cell_type": "code",
   "execution_count": null,
   "id": "860bc279",
   "metadata": {},
   "outputs": [],
   "source": []
  },
  {
   "cell_type": "code",
   "execution_count": null,
   "id": "46275f21",
   "metadata": {},
   "outputs": [],
   "source": []
  },
  {
   "cell_type": "code",
   "execution_count": 68,
   "id": "0cb04a36",
   "metadata": {},
   "outputs": [],
   "source": [
    "uncertainty_threshold = 0.2\n",
    "\n",
    "labels.rename(\n",
    "    columns={\n",
    "        f\"labtransf_ann_level_{lev}\": f\"ann_level_{lev}_transferred_label_unfiltered\"\n",
    "        for lev in range(1, 6)\n",
    "    },\n",
    "    inplace=True,\n",
    ")\n",
    "uncert.rename(\n",
    "    columns={\n",
    "        f\"labtransf_ann_level_{lev}\": f\"ann_level_{lev}_transfer_uncert\"\n",
    "        for lev in range(1, 6)\n",
    "    },\n",
    "    inplace=True,\n",
    ")"
   ]
  },
  {
   "cell_type": "code",
   "execution_count": 69,
   "id": "8b6d51c8",
   "metadata": {},
   "outputs": [
    {
     "name": "stdout",
     "output_type": "stream",
     "text": [
      "Setting obs column is_primary_data (not categorical neither float) to strings to prevent writing error.\n",
      "Setting obs column ann_finest_level (not categorical neither float) to strings to prevent writing error.\n",
      "Setting obs column dataset (not categorical neither float) to strings to prevent writing error.\n",
      "Setting obs column scanvi_label (not categorical neither float) to strings to prevent writing error.\n",
      "Setting obs column labtransf_ann_level_1 (not categorical neither float) to strings to prevent writing error.\n",
      "Setting obs column labtransf_ann_level_2 (not categorical neither float) to strings to prevent writing error.\n",
      "Setting obs column labtransf_ann_level_3 (not categorical neither float) to strings to prevent writing error.\n",
      "Setting obs column labtransf_ann_level_4 (not categorical neither float) to strings to prevent writing error.\n",
      "Setting obs column labtransf_ann_level_5 (not categorical neither float) to strings to prevent writing error.\n",
      "Setting obs column colors (not categorical neither float) to strings to prevent writing error.\n",
      "Setting obs column ref_or_query (not categorical neither float) to strings to prevent writing error.\n"
     ]
    }
   ],
   "source": [
    "adata_query_latent.obs[\"ref_or_query\"] = \"query\"\n",
    "adata_ref.obs[\"ref_or_query\"] = \"ref\"\n",
    "\n",
    "combined_emb = sc.concat(\n",
    "    (adata_ref, adata_query_latent), index_unique=None, join=\"outer\"\n",
    ")  # index_unique=\"_\", batch_key=\"ref_or_query\")\n",
    "\n",
    "for cat in combined_emb.obs.columns:\n",
    "    if isinstance(combined_emb.obs[cat].values, pd.Categorical):\n",
    "        pass\n",
    "    elif pd.api.types.is_float_dtype(combined_emb.obs[cat]):\n",
    "        pass\n",
    "    else:\n",
    "        print(\n",
    "            f\"Setting obs column {cat} (not categorical neither float) to strings to prevent writing error.\"\n",
    "        )\n",
    "        combined_emb.obs[cat] = combined_emb.obs[cat].astype(str)"
   ]
  },
  {
   "cell_type": "code",
   "execution_count": 71,
   "id": "f704cd51",
   "metadata": {},
   "outputs": [],
   "source": [
    "combined_emb.obs = combined_emb.obs.join(labels)\n",
    "combined_emb.obs = combined_emb.obs.join(uncert)"
   ]
  },
  {
   "cell_type": "code",
   "execution_count": 72,
   "id": "ee8af4e7",
   "metadata": {},
   "outputs": [],
   "source": [
    "for lev in range(1, 6):\n",
    "    combined_emb.obs[f\"ann_level_{lev}_transferred_label\"] = combined_emb.obs[\n",
    "        f\"ann_level_{lev}_transferred_label_unfiltered\"\n",
    "    ].mask(\n",
    "        combined_emb.obs[f\"ann_level_{lev}_transfer_uncert\"] > uncertainty_threshold,\n",
    "        \"Unknown\",\n",
    "    )"
   ]
  },
  {
   "cell_type": "code",
   "execution_count": 73,
   "id": "e6ffcdc9",
   "metadata": {
    "scrolled": true
   },
   "outputs": [
    {
     "name": "stdout",
     "output_type": "stream",
     "text": [
      "Percentage of unknown per level, with uncertainty_threshold=0.2:\n",
      "Level 1: 1.54%\n",
      "Level 2: 3.17%\n",
      "Level 3: 12.74%\n",
      "Level 4: 27.61%\n",
      "Level 5: 31.26%\n"
     ]
    }
   ],
   "source": [
    "print(\n",
    "    f\"Percentage of unknown per level, with uncertainty_threshold={uncertainty_threshold}:\"\n",
    ")\n",
    "for level in range(1, 6):\n",
    "    print(\n",
    "        f\"Level {level}: {np.round(sum(combined_emb.obs[f'ann_level_{level}_transferred_label'] =='Unknown')/adata_query.n_obs*100,2)}%\"\n",
    "    )"
   ]
  },
  {
   "cell_type": "code",
   "execution_count": null,
   "id": "617572c7",
   "metadata": {},
   "outputs": [],
   "source": []
  },
  {
   "cell_type": "code",
   "execution_count": null,
   "id": "b78d5114",
   "metadata": {},
   "outputs": [],
   "source": []
  },
  {
   "cell_type": "code",
   "execution_count": null,
   "id": "48b3804d",
   "metadata": {},
   "outputs": [],
   "source": []
  },
  {
   "cell_type": "code",
   "execution_count": null,
   "id": "22edca7a",
   "metadata": {},
   "outputs": [],
   "source": []
  },
  {
   "cell_type": "code",
   "execution_count": null,
   "id": "9c4e2263",
   "metadata": {},
   "outputs": [],
   "source": []
  },
  {
   "cell_type": "code",
   "execution_count": null,
   "id": "6ceb149c",
   "metadata": {},
   "outputs": [],
   "source": []
  },
  {
   "cell_type": "code",
   "execution_count": null,
   "id": "d437868b",
   "metadata": {},
   "outputs": [],
   "source": []
  },
  {
   "cell_type": "code",
   "execution_count": null,
   "id": "e0d470e3",
   "metadata": {},
   "outputs": [],
   "source": []
  },
  {
   "cell_type": "code",
   "execution_count": null,
   "id": "124026a0",
   "metadata": {},
   "outputs": [],
   "source": []
  },
  {
   "cell_type": "code",
   "execution_count": null,
   "id": "6753a5d5",
   "metadata": {},
   "outputs": [],
   "source": []
  },
  {
   "cell_type": "code",
   "execution_count": null,
   "id": "ac8fdf6a",
   "metadata": {},
   "outputs": [],
   "source": [
    "sc.pp.neighbors(combined_emb, n_neighbors=30)\n",
    "sc.tl.umap(combined_emb)"
   ]
  },
  {
   "cell_type": "code",
   "execution_count": null,
   "id": "c1c1a126",
   "metadata": {},
   "outputs": [],
   "source": [
    "sc.pl.umap(combined_emb, color=\"ref_or_query\", frameon=False, wspace=0.6)"
   ]
  },
  {
   "cell_type": "code",
   "execution_count": null,
   "id": "9899ee25",
   "metadata": {},
   "outputs": [],
   "source": [
    "adata_query_final = (\n",
    "    adata_query_unprep.copy()\n",
    ")  # copy the original query adata, including gene counts\n",
    "\n",
    "adata_query_final.obsm[\"X_scarches_emb\"] = adata_query_latent[\n",
    "    adata_query_final.obs.index, :\n",
    "].X  # copy over scArches/reference-based embedding\n",
    "\n",
    "adata_query_final.var[\"gene_ids\"] = adata_query_final.var.index\n",
    "adata_query_final.var.index = adata_query_final.var.gene_names\n",
    "adata_query_final.var.index.name = None\n",
    "\n",
    "sc.pp.normalize_per_cell(adata_query_final, counts_per_cell_after=10000)\n",
    "sc.pp.log1p(adata_query_final)\n",
    "\n",
    "for col in combined_emb.obs.columns:\n",
    "    if col.startswith(\"ann_level\") and \"transfer\" in col:\n",
    "        adata_query_final.obs[col] = combined_emb.obs.loc[\n",
    "            adata_query_final.obs.index, col\n",
    "        ]\n",
    "        \n",
    "        \n",
    "        "
   ]
  },
  {
   "cell_type": "code",
   "execution_count": null,
   "id": "6a7a89bf",
   "metadata": {},
   "outputs": [],
   "source": [
    "sc.pp.neighbors(adata_query_final, use_rep=\"X_scarches_emb\")\n",
    "sc.tl.umap(adata_query_final)"
   ]
  },
  {
   "cell_type": "code",
   "execution_count": 2,
   "id": "a5aca5a5",
   "metadata": {},
   "outputs": [
    {
     "data": {
      "text/plain": [
       "1"
      ]
     },
     "execution_count": 2,
     "metadata": {},
     "output_type": "execute_result"
    }
   ],
   "source": [
    "1"
   ]
  },
  {
   "cell_type": "code",
   "execution_count": null,
   "id": "3d52095e",
   "metadata": {},
   "outputs": [],
   "source": []
  },
  {
   "cell_type": "code",
   "execution_count": null,
   "id": "0ab0bf00",
   "metadata": {},
   "outputs": [],
   "source": []
  },
  {
   "cell_type": "code",
   "execution_count": null,
   "id": "28ba0a0e",
   "metadata": {},
   "outputs": [],
   "source": []
  }
 ],
 "metadata": {
  "kernelspec": {
   "display_name": "Python (Sencell)",
   "language": "python",
   "name": "sencell"
  },
  "language_info": {
   "codemirror_mode": {
    "name": "ipython",
    "version": 3
   },
   "file_extension": ".py",
   "mimetype": "text/x-python",
   "name": "python",
   "nbconvert_exporter": "python",
   "pygments_lexer": "ipython3",
   "version": "3.8.17"
  }
 },
 "nbformat": 4,
 "nbformat_minor": 5
}
